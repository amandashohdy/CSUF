{
  "cells": [
    {
      "cell_type": "code",
      "execution_count": 1,
      "id": "f79cd7f5",
      "metadata": {
        "execution": {
          "iopub.execute_input": "2023-12-14T17:07:31.274302Z",
          "iopub.status.busy": "2023-12-14T17:07:31.273567Z",
          "iopub.status.idle": "2023-12-14T17:07:32.125554Z",
          "shell.execute_reply": "2023-12-14T17:07:32.125262Z"
        },
        "id": "f79cd7f5"
      },
      "outputs": [],
      "source": [
        "import numpy as np\n",
        "import pandas as pd\n",
        "import matplotlib.pyplot as plt\n",
        "import seaborn as sns\n",
        "\n",
        "from sklearn.linear_model import LogisticRegression\n",
        "from mlxtend.plotting import plot_decision_regions"
      ]
    },
    {
      "cell_type": "code",
      "execution_count": 2,
      "id": "6f282eca",
      "metadata": {
        "execution": {
          "iopub.execute_input": "2023-12-14T17:07:32.127391Z",
          "iopub.status.busy": "2023-12-14T17:07:32.127229Z",
          "iopub.status.idle": "2023-12-14T17:07:32.131321Z",
          "shell.execute_reply": "2023-12-14T17:07:32.131029Z"
        },
        "id": "6f282eca"
      },
      "outputs": [],
      "source": [
        "# Load the penguins dataset and drop instances with missing values\n",
        "penguins = pd.read_csv('penguins.csv').dropna()"
      ]
    },
    {
      "cell_type": "code",
      "execution_count": 3,
      "id": "80432869",
      "metadata": {
        "execution": {
          "iopub.execute_input": "2023-12-14T17:07:32.132877Z",
          "iopub.status.busy": "2023-12-14T17:07:32.132761Z",
          "iopub.status.idle": "2023-12-14T17:07:32.141184Z",
          "shell.execute_reply": "2023-12-14T17:07:32.140932Z"
        },
        "id": "80432869",
        "colab": {
          "base_uri": "https://localhost:8080/",
          "height": 330
        },
        "outputId": "ed0ec4ae-93b2-47cf-96f7-f9c498a15122"
      },
      "outputs": [
        {
          "output_type": "stream",
          "name": "stderr",
          "text": [
            "<ipython-input-3-9ed15e578395>:3: FutureWarning: Downcasting behavior in `replace` is deprecated and will be removed in a future version. To retain the old behavior, explicitly call `result.infer_objects(copy=False)`. To opt-in to the future behavior, set `pd.set_option('future.no_silent_downcasting', True)`\n",
            "  penguins['Adelie'] = penguins['species'].replace(to_replace = ['Adelie','Chinstrap', 'Gentoo'],\n",
            "<ipython-input-3-9ed15e578395>:5: FutureWarning: Downcasting behavior in `replace` is deprecated and will be removed in a future version. To retain the old behavior, explicitly call `result.infer_objects(copy=False)`. To opt-in to the future behavior, set `pd.set_option('future.no_silent_downcasting', True)`\n",
            "  penguins['Chinstrap'] = penguins['species'].replace(to_replace = ['Adelie','Chinstrap', 'Gentoo'],\n",
            "<ipython-input-3-9ed15e578395>:7: FutureWarning: Downcasting behavior in `replace` is deprecated and will be removed in a future version. To retain the old behavior, explicitly call `result.infer_objects(copy=False)`. To opt-in to the future behavior, set `pd.set_option('future.no_silent_downcasting', True)`\n",
            "  penguins['Gentoo'] = penguins['species'].replace(to_replace = ['Adelie','Chinstrap', 'Gentoo'],\n"
          ]
        },
        {
          "output_type": "execute_result",
          "data": {
            "text/plain": [
              "  species     island  bill_length_mm  bill_depth_mm  flipper_length_mm  \\\n",
              "0  Adelie  Torgersen            39.1           18.7              181.0   \n",
              "1  Adelie  Torgersen            39.5           17.4              186.0   \n",
              "2  Adelie  Torgersen            40.3           18.0              195.0   \n",
              "4  Adelie  Torgersen            36.7           19.3              193.0   \n",
              "5  Adelie  Torgersen            39.3           20.6              190.0   \n",
              "\n",
              "   body_mass_g     sex  Adelie  Chinstrap  Gentoo  \n",
              "0       3750.0    Male       1          0       0  \n",
              "1       3800.0  Female       1          0       0  \n",
              "2       3250.0  Female       1          0       0  \n",
              "4       3450.0  Female       1          0       0  \n",
              "5       3650.0    Male       1          0       0  "
            ],
            "text/html": [
              "\n",
              "  <div id=\"df-fee82786-8d7b-4500-82c8-96547d4896bb\" class=\"colab-df-container\">\n",
              "    <div>\n",
              "<style scoped>\n",
              "    .dataframe tbody tr th:only-of-type {\n",
              "        vertical-align: middle;\n",
              "    }\n",
              "\n",
              "    .dataframe tbody tr th {\n",
              "        vertical-align: top;\n",
              "    }\n",
              "\n",
              "    .dataframe thead th {\n",
              "        text-align: right;\n",
              "    }\n",
              "</style>\n",
              "<table border=\"1\" class=\"dataframe\">\n",
              "  <thead>\n",
              "    <tr style=\"text-align: right;\">\n",
              "      <th></th>\n",
              "      <th>species</th>\n",
              "      <th>island</th>\n",
              "      <th>bill_length_mm</th>\n",
              "      <th>bill_depth_mm</th>\n",
              "      <th>flipper_length_mm</th>\n",
              "      <th>body_mass_g</th>\n",
              "      <th>sex</th>\n",
              "      <th>Adelie</th>\n",
              "      <th>Chinstrap</th>\n",
              "      <th>Gentoo</th>\n",
              "    </tr>\n",
              "  </thead>\n",
              "  <tbody>\n",
              "    <tr>\n",
              "      <th>0</th>\n",
              "      <td>Adelie</td>\n",
              "      <td>Torgersen</td>\n",
              "      <td>39.1</td>\n",
              "      <td>18.7</td>\n",
              "      <td>181.0</td>\n",
              "      <td>3750.0</td>\n",
              "      <td>Male</td>\n",
              "      <td>1</td>\n",
              "      <td>0</td>\n",
              "      <td>0</td>\n",
              "    </tr>\n",
              "    <tr>\n",
              "      <th>1</th>\n",
              "      <td>Adelie</td>\n",
              "      <td>Torgersen</td>\n",
              "      <td>39.5</td>\n",
              "      <td>17.4</td>\n",
              "      <td>186.0</td>\n",
              "      <td>3800.0</td>\n",
              "      <td>Female</td>\n",
              "      <td>1</td>\n",
              "      <td>0</td>\n",
              "      <td>0</td>\n",
              "    </tr>\n",
              "    <tr>\n",
              "      <th>2</th>\n",
              "      <td>Adelie</td>\n",
              "      <td>Torgersen</td>\n",
              "      <td>40.3</td>\n",
              "      <td>18.0</td>\n",
              "      <td>195.0</td>\n",
              "      <td>3250.0</td>\n",
              "      <td>Female</td>\n",
              "      <td>1</td>\n",
              "      <td>0</td>\n",
              "      <td>0</td>\n",
              "    </tr>\n",
              "    <tr>\n",
              "      <th>4</th>\n",
              "      <td>Adelie</td>\n",
              "      <td>Torgersen</td>\n",
              "      <td>36.7</td>\n",
              "      <td>19.3</td>\n",
              "      <td>193.0</td>\n",
              "      <td>3450.0</td>\n",
              "      <td>Female</td>\n",
              "      <td>1</td>\n",
              "      <td>0</td>\n",
              "      <td>0</td>\n",
              "    </tr>\n",
              "    <tr>\n",
              "      <th>5</th>\n",
              "      <td>Adelie</td>\n",
              "      <td>Torgersen</td>\n",
              "      <td>39.3</td>\n",
              "      <td>20.6</td>\n",
              "      <td>190.0</td>\n",
              "      <td>3650.0</td>\n",
              "      <td>Male</td>\n",
              "      <td>1</td>\n",
              "      <td>0</td>\n",
              "      <td>0</td>\n",
              "    </tr>\n",
              "  </tbody>\n",
              "</table>\n",
              "</div>\n",
              "    <div class=\"colab-df-buttons\">\n",
              "\n",
              "  <div class=\"colab-df-container\">\n",
              "    <button class=\"colab-df-convert\" onclick=\"convertToInteractive('df-fee82786-8d7b-4500-82c8-96547d4896bb')\"\n",
              "            title=\"Convert this dataframe to an interactive table.\"\n",
              "            style=\"display:none;\">\n",
              "\n",
              "  <svg xmlns=\"http://www.w3.org/2000/svg\" height=\"24px\" viewBox=\"0 -960 960 960\">\n",
              "    <path d=\"M120-120v-720h720v720H120Zm60-500h600v-160H180v160Zm220 220h160v-160H400v160Zm0 220h160v-160H400v160ZM180-400h160v-160H180v160Zm440 0h160v-160H620v160ZM180-180h160v-160H180v160Zm440 0h160v-160H620v160Z\"/>\n",
              "  </svg>\n",
              "    </button>\n",
              "\n",
              "  <style>\n",
              "    .colab-df-container {\n",
              "      display:flex;\n",
              "      gap: 12px;\n",
              "    }\n",
              "\n",
              "    .colab-df-convert {\n",
              "      background-color: #E8F0FE;\n",
              "      border: none;\n",
              "      border-radius: 50%;\n",
              "      cursor: pointer;\n",
              "      display: none;\n",
              "      fill: #1967D2;\n",
              "      height: 32px;\n",
              "      padding: 0 0 0 0;\n",
              "      width: 32px;\n",
              "    }\n",
              "\n",
              "    .colab-df-convert:hover {\n",
              "      background-color: #E2EBFA;\n",
              "      box-shadow: 0px 1px 2px rgba(60, 64, 67, 0.3), 0px 1px 3px 1px rgba(60, 64, 67, 0.15);\n",
              "      fill: #174EA6;\n",
              "    }\n",
              "\n",
              "    .colab-df-buttons div {\n",
              "      margin-bottom: 4px;\n",
              "    }\n",
              "\n",
              "    [theme=dark] .colab-df-convert {\n",
              "      background-color: #3B4455;\n",
              "      fill: #D2E3FC;\n",
              "    }\n",
              "\n",
              "    [theme=dark] .colab-df-convert:hover {\n",
              "      background-color: #434B5C;\n",
              "      box-shadow: 0px 1px 3px 1px rgba(0, 0, 0, 0.15);\n",
              "      filter: drop-shadow(0px 1px 2px rgba(0, 0, 0, 0.3));\n",
              "      fill: #FFFFFF;\n",
              "    }\n",
              "  </style>\n",
              "\n",
              "    <script>\n",
              "      const buttonEl =\n",
              "        document.querySelector('#df-fee82786-8d7b-4500-82c8-96547d4896bb button.colab-df-convert');\n",
              "      buttonEl.style.display =\n",
              "        google.colab.kernel.accessAllowed ? 'block' : 'none';\n",
              "\n",
              "      async function convertToInteractive(key) {\n",
              "        const element = document.querySelector('#df-fee82786-8d7b-4500-82c8-96547d4896bb');\n",
              "        const dataTable =\n",
              "          await google.colab.kernel.invokeFunction('convertToInteractive',\n",
              "                                                    [key], {});\n",
              "        if (!dataTable) return;\n",
              "\n",
              "        const docLinkHtml = 'Like what you see? Visit the ' +\n",
              "          '<a target=\"_blank\" href=https://colab.research.google.com/notebooks/data_table.ipynb>data table notebook</a>'\n",
              "          + ' to learn more about interactive tables.';\n",
              "        element.innerHTML = '';\n",
              "        dataTable['output_type'] = 'display_data';\n",
              "        await google.colab.output.renderOutput(dataTable, element);\n",
              "        const docLink = document.createElement('div');\n",
              "        docLink.innerHTML = docLinkHtml;\n",
              "        element.appendChild(docLink);\n",
              "      }\n",
              "    </script>\n",
              "  </div>\n",
              "\n",
              "\n",
              "<div id=\"df-de13beb1-6762-4eaa-b515-c4e8d10428ed\">\n",
              "  <button class=\"colab-df-quickchart\" onclick=\"quickchart('df-de13beb1-6762-4eaa-b515-c4e8d10428ed')\"\n",
              "            title=\"Suggest charts\"\n",
              "            style=\"display:none;\">\n",
              "\n",
              "<svg xmlns=\"http://www.w3.org/2000/svg\" height=\"24px\"viewBox=\"0 0 24 24\"\n",
              "     width=\"24px\">\n",
              "    <g>\n",
              "        <path d=\"M19 3H5c-1.1 0-2 .9-2 2v14c0 1.1.9 2 2 2h14c1.1 0 2-.9 2-2V5c0-1.1-.9-2-2-2zM9 17H7v-7h2v7zm4 0h-2V7h2v10zm4 0h-2v-4h2v4z\"/>\n",
              "    </g>\n",
              "</svg>\n",
              "  </button>\n",
              "\n",
              "<style>\n",
              "  .colab-df-quickchart {\n",
              "      --bg-color: #E8F0FE;\n",
              "      --fill-color: #1967D2;\n",
              "      --hover-bg-color: #E2EBFA;\n",
              "      --hover-fill-color: #174EA6;\n",
              "      --disabled-fill-color: #AAA;\n",
              "      --disabled-bg-color: #DDD;\n",
              "  }\n",
              "\n",
              "  [theme=dark] .colab-df-quickchart {\n",
              "      --bg-color: #3B4455;\n",
              "      --fill-color: #D2E3FC;\n",
              "      --hover-bg-color: #434B5C;\n",
              "      --hover-fill-color: #FFFFFF;\n",
              "      --disabled-bg-color: #3B4455;\n",
              "      --disabled-fill-color: #666;\n",
              "  }\n",
              "\n",
              "  .colab-df-quickchart {\n",
              "    background-color: var(--bg-color);\n",
              "    border: none;\n",
              "    border-radius: 50%;\n",
              "    cursor: pointer;\n",
              "    display: none;\n",
              "    fill: var(--fill-color);\n",
              "    height: 32px;\n",
              "    padding: 0;\n",
              "    width: 32px;\n",
              "  }\n",
              "\n",
              "  .colab-df-quickchart:hover {\n",
              "    background-color: var(--hover-bg-color);\n",
              "    box-shadow: 0 1px 2px rgba(60, 64, 67, 0.3), 0 1px 3px 1px rgba(60, 64, 67, 0.15);\n",
              "    fill: var(--button-hover-fill-color);\n",
              "  }\n",
              "\n",
              "  .colab-df-quickchart-complete:disabled,\n",
              "  .colab-df-quickchart-complete:disabled:hover {\n",
              "    background-color: var(--disabled-bg-color);\n",
              "    fill: var(--disabled-fill-color);\n",
              "    box-shadow: none;\n",
              "  }\n",
              "\n",
              "  .colab-df-spinner {\n",
              "    border: 2px solid var(--fill-color);\n",
              "    border-color: transparent;\n",
              "    border-bottom-color: var(--fill-color);\n",
              "    animation:\n",
              "      spin 1s steps(1) infinite;\n",
              "  }\n",
              "\n",
              "  @keyframes spin {\n",
              "    0% {\n",
              "      border-color: transparent;\n",
              "      border-bottom-color: var(--fill-color);\n",
              "      border-left-color: var(--fill-color);\n",
              "    }\n",
              "    20% {\n",
              "      border-color: transparent;\n",
              "      border-left-color: var(--fill-color);\n",
              "      border-top-color: var(--fill-color);\n",
              "    }\n",
              "    30% {\n",
              "      border-color: transparent;\n",
              "      border-left-color: var(--fill-color);\n",
              "      border-top-color: var(--fill-color);\n",
              "      border-right-color: var(--fill-color);\n",
              "    }\n",
              "    40% {\n",
              "      border-color: transparent;\n",
              "      border-right-color: var(--fill-color);\n",
              "      border-top-color: var(--fill-color);\n",
              "    }\n",
              "    60% {\n",
              "      border-color: transparent;\n",
              "      border-right-color: var(--fill-color);\n",
              "    }\n",
              "    80% {\n",
              "      border-color: transparent;\n",
              "      border-right-color: var(--fill-color);\n",
              "      border-bottom-color: var(--fill-color);\n",
              "    }\n",
              "    90% {\n",
              "      border-color: transparent;\n",
              "      border-bottom-color: var(--fill-color);\n",
              "    }\n",
              "  }\n",
              "</style>\n",
              "\n",
              "  <script>\n",
              "    async function quickchart(key) {\n",
              "      const quickchartButtonEl =\n",
              "        document.querySelector('#' + key + ' button');\n",
              "      quickchartButtonEl.disabled = true;  // To prevent multiple clicks.\n",
              "      quickchartButtonEl.classList.add('colab-df-spinner');\n",
              "      try {\n",
              "        const charts = await google.colab.kernel.invokeFunction(\n",
              "            'suggestCharts', [key], {});\n",
              "      } catch (error) {\n",
              "        console.error('Error during call to suggestCharts:', error);\n",
              "      }\n",
              "      quickchartButtonEl.classList.remove('colab-df-spinner');\n",
              "      quickchartButtonEl.classList.add('colab-df-quickchart-complete');\n",
              "    }\n",
              "    (() => {\n",
              "      let quickchartButtonEl =\n",
              "        document.querySelector('#df-de13beb1-6762-4eaa-b515-c4e8d10428ed button');\n",
              "      quickchartButtonEl.style.display =\n",
              "        google.colab.kernel.accessAllowed ? 'block' : 'none';\n",
              "    })();\n",
              "  </script>\n",
              "</div>\n",
              "\n",
              "    </div>\n",
              "  </div>\n"
            ],
            "application/vnd.google.colaboratory.intrinsic+json": {
              "type": "dataframe",
              "variable_name": "penguins",
              "summary": "{\n  \"name\": \"penguins\",\n  \"rows\": 333,\n  \"fields\": [\n    {\n      \"column\": \"species\",\n      \"properties\": {\n        \"dtype\": \"category\",\n        \"num_unique_values\": 3,\n        \"samples\": [\n          \"Adelie\",\n          \"Chinstrap\",\n          \"Gentoo\"\n        ],\n        \"semantic_type\": \"\",\n        \"description\": \"\"\n      }\n    },\n    {\n      \"column\": \"island\",\n      \"properties\": {\n        \"dtype\": \"category\",\n        \"num_unique_values\": 3,\n        \"samples\": [\n          \"Torgersen\",\n          \"Biscoe\",\n          \"Dream\"\n        ],\n        \"semantic_type\": \"\",\n        \"description\": \"\"\n      }\n    },\n    {\n      \"column\": \"bill_length_mm\",\n      \"properties\": {\n        \"dtype\": \"number\",\n        \"std\": 5.468668342647562,\n        \"min\": 32.1,\n        \"max\": 59.6,\n        \"num_unique_values\": 163,\n        \"samples\": [\n          59.6,\n          48.1,\n          46.3\n        ],\n        \"semantic_type\": \"\",\n        \"description\": \"\"\n      }\n    },\n    {\n      \"column\": \"bill_depth_mm\",\n      \"properties\": {\n        \"dtype\": \"number\",\n        \"std\": 1.9692354633199,\n        \"min\": 13.1,\n        \"max\": 21.5,\n        \"num_unique_values\": 79,\n        \"samples\": [\n          19.5,\n          18.7,\n          17.0\n        ],\n        \"semantic_type\": \"\",\n        \"description\": \"\"\n      }\n    },\n    {\n      \"column\": \"flipper_length_mm\",\n      \"properties\": {\n        \"dtype\": \"number\",\n        \"std\": 14.015765288287882,\n        \"min\": 172.0,\n        \"max\": 231.0,\n        \"num_unique_values\": 54,\n        \"samples\": [\n          188.0,\n          231.0,\n          224.0\n        ],\n        \"semantic_type\": \"\",\n        \"description\": \"\"\n      }\n    },\n    {\n      \"column\": \"body_mass_g\",\n      \"properties\": {\n        \"dtype\": \"number\",\n        \"std\": 805.2158019428966,\n        \"min\": 2700.0,\n        \"max\": 6300.0,\n        \"num_unique_values\": 93,\n        \"samples\": [\n          4725.0,\n          3100.0,\n          3575.0\n        ],\n        \"semantic_type\": \"\",\n        \"description\": \"\"\n      }\n    },\n    {\n      \"column\": \"sex\",\n      \"properties\": {\n        \"dtype\": \"category\",\n        \"num_unique_values\": 2,\n        \"samples\": [\n          \"Female\",\n          \"Male\"\n        ],\n        \"semantic_type\": \"\",\n        \"description\": \"\"\n      }\n    },\n    {\n      \"column\": \"Adelie\",\n      \"properties\": {\n        \"dtype\": \"number\",\n        \"std\": 0,\n        \"min\": 0,\n        \"max\": 1,\n        \"num_unique_values\": 2,\n        \"samples\": [\n          0,\n          1\n        ],\n        \"semantic_type\": \"\",\n        \"description\": \"\"\n      }\n    },\n    {\n      \"column\": \"Chinstrap\",\n      \"properties\": {\n        \"dtype\": \"number\",\n        \"std\": 0,\n        \"min\": 0,\n        \"max\": 1,\n        \"num_unique_values\": 2,\n        \"samples\": [\n          1,\n          0\n        ],\n        \"semantic_type\": \"\",\n        \"description\": \"\"\n      }\n    },\n    {\n      \"column\": \"Gentoo\",\n      \"properties\": {\n        \"dtype\": \"number\",\n        \"std\": 0,\n        \"min\": 0,\n        \"max\": 1,\n        \"num_unique_values\": 2,\n        \"samples\": [\n          1,\n          0\n        ],\n        \"semantic_type\": \"\",\n        \"description\": \"\"\n      }\n    }\n  ]\n}"
            }
          },
          "metadata": {},
          "execution_count": 3
        }
      ],
      "source": [
        "# Create three new binary features in the penguins DataFrame for each species\n",
        "# The categorical variable species is encoded into separate columns, which can be useful for machine learning models that require numerical input.\n",
        "penguins['Adelie'] = penguins['species'].replace(to_replace = ['Adelie','Chinstrap', 'Gentoo'],\n",
        "                                                      value = [int(1), int(0), int(0)])\n",
        "penguins['Chinstrap'] = penguins['species'].replace(to_replace = ['Adelie','Chinstrap', 'Gentoo'],\n",
        "                                                      value = [int(0), int(1), int(0)])\n",
        "penguins['Gentoo'] = penguins['species'].replace(to_replace = ['Adelie','Chinstrap', 'Gentoo'],\n",
        "                                                      value = [int(0), int(0), int(1)])\n",
        "\n",
        "#displays the first few rows of the modified DataFrame to check the results\n",
        "penguins.head()"
      ]
    },
    {
      "cell_type": "markdown",
      "source": [
        "1. The target species to Adelie."
      ],
      "metadata": {
        "id": "9ac_RRL4bY_k"
      },
      "id": "9ac_RRL4bY_k"
    },
    {
      "cell_type": "code",
      "execution_count": 4,
      "id": "48da69b8",
      "metadata": {
        "execution": {
          "iopub.execute_input": "2023-12-14T17:07:32.142685Z",
          "iopub.status.busy": "2023-12-14T17:07:32.142606Z",
          "iopub.status.idle": "2023-12-14T17:07:32.144827Z",
          "shell.execute_reply": "2023-12-14T17:07:32.144574Z"
        },
        "id": "48da69b8"
      },
      "outputs": [],
      "source": [
        "# Define the input feature \"bill_length_mm\" and the output feature \"Adelie\" (aka, Create a dataframe X containing \"bill_length_mm\", and the output feature: \"Adelie\")\n",
        "X = penguins[['bill_length_mm']]\n",
        "y = penguins[['Adelie']]"
      ]
    },
    {
      "cell_type": "code",
      "execution_count": 5,
      "metadata": {
        "execution": {
          "iopub.execute_input": "2023-12-14T17:07:32.146236Z",
          "iopub.status.busy": "2023-12-14T17:07:32.146147Z",
          "iopub.status.idle": "2023-12-14T17:07:32.150707Z",
          "shell.execute_reply": "2023-12-14T17:07:32.150452Z"
        },
        "colab": {
          "base_uri": "https://localhost:8080/"
        },
        "outputId": "3dd8a544-e266-4dc9-b752-32aaccffb599",
        "id": "tBvJ3AUevl3o"
      },
      "outputs": [
        {
          "output_type": "stream",
          "name": "stdout",
          "text": [
            "w1: [[-1.1716852]]\n",
            "w0: [50.24239768]\n"
          ]
        }
      ],
      "source": [
        "# Initialize a logistic regression model, with penalty=None\n",
        "logisticModel = LogisticRegression(penalty=None)\n",
        "\n",
        "# Fit the model\n",
        "logisticModel.fit(X, np.ravel(y))\n",
        "\n",
        "# Print the intercept and weight of the fitted model\n",
        "print('w1:', logisticModel.coef_)\n",
        "print('w0:', logisticModel.intercept_)"
      ],
      "id": "tBvJ3AUevl3o"
    },
    {
      "cell_type": "code",
      "execution_count": 6,
      "metadata": {
        "execution": {
          "iopub.execute_input": "2023-12-14T17:07:32.152181Z",
          "iopub.status.busy": "2023-12-14T17:07:32.152099Z",
          "iopub.status.idle": "2023-12-14T17:07:32.154784Z",
          "shell.execute_reply": "2023-12-14T17:07:32.154528Z"
        },
        "colab": {
          "base_uri": "https://localhost:8080/"
        },
        "outputId": "8058ffe5-b08e-45d9-a980-0984679bbe34",
        "id": "wwNDq3D_vl3p"
      },
      "outputs": [
        {
          "output_type": "stream",
          "name": "stdout",
          "text": [
            "Probabilities: [[1.17799505e-02 9.88220049e-01]\n",
            " [1.86912372e-02 9.81308763e-01]\n",
            " [4.63761416e-02 9.53623858e-01]\n",
            " [7.15687573e-04 9.99284312e-01]\n",
            " [1.48445101e-02 9.85155490e-01]\n",
            " [9.34205137e-03 9.90657949e-01]\n",
            " [1.32249370e-02 9.86775063e-01]\n",
            " [1.10451647e-01 8.89548353e-01]\n",
            " [6.59157860e-03 9.93408421e-01]\n",
            " [6.11518181e-05 9.99938848e-01]\n",
            " [6.36608161e-04 9.99363392e-01]\n",
            " [7.40490285e-03 9.92595097e-01]\n",
            " [3.90365351e-01 6.09634649e-01]\n",
            " [4.83775242e-05 9.99951622e-01]\n",
            " [9.74793443e-01 2.52065566e-02]\n",
            " [2.59208521e-03 9.97407915e-01]\n",
            " [2.30615300e-03 9.97693847e-01]\n",
            " [2.80431934e-04 9.99719568e-01]\n",
            " [4.13541709e-03 9.95864583e-01]\n",
            " [8.31774160e-03 9.91682258e-01]\n",
            " [1.38859345e-04 9.99861141e-01]\n",
            " [6.46472225e-02 9.35352778e-01]\n",
            " [5.79134694e-02 9.42086531e-01]\n",
            " [2.91336569e-03 9.97086634e-01]\n",
            " [5.79134694e-02 9.42086531e-01]\n",
            " [1.86912372e-02 9.81308763e-01]\n",
            " [1.28500313e-03 9.98714997e-01]\n",
            " [1.86912372e-02 9.81308763e-01]\n",
            " [8.94415251e-02 9.10558475e-01]\n",
            " [5.03684608e-04 9.99496315e-01]\n",
            " [1.32249370e-02 9.86775063e-01]\n",
            " [8.31774160e-03 9.91682258e-01]\n",
            " [3.10607161e-01 6.89392839e-01]\n",
            " [2.05169701e-03 9.97948303e-01]\n",
            " [2.63565903e-02 9.73643410e-01]\n",
            " [5.66261623e-04 9.99433738e-01]\n",
            " [8.03470067e-02 9.19652993e-01]\n",
            " [3.15281123e-04 9.99684719e-01]\n",
            " [8.06732917e-01 1.93267083e-01]\n",
            " [1.01683269e-03 9.98983167e-01]\n",
            " [2.09660098e-02 9.79033990e-01]\n",
            " [1.10451647e-01 8.89548353e-01]\n",
            " [3.15281123e-04 9.99684719e-01]\n",
            " [3.36235908e-01 6.63764092e-01]\n",
            " [2.09660098e-02 9.79033990e-01]\n",
            " [3.70468577e-02 9.62953142e-01]\n",
            " [9.77093361e-05 9.99902291e-01]\n",
            " [2.62770282e-01 7.37229718e-01]\n",
            " [5.43909530e-05 9.99945609e-01]\n",
            " [1.49996251e-01 8.50003749e-01]\n",
            " [1.04911679e-02 9.89508832e-01]\n",
            " [6.46472225e-02 9.35352778e-01]\n",
            " [5.66261623e-04 9.99433738e-01]\n",
            " [2.05169701e-03 9.97948303e-01]\n",
            " [2.21861337e-04 9.99778139e-01]\n",
            " [1.35661814e-01 8.64338186e-01]\n",
            " [2.05169701e-03 9.97948303e-01]\n",
            " [1.10451647e-01 8.89548353e-01]\n",
            " [5.03684608e-04 9.99496315e-01]\n",
            " [1.82381765e-01 8.17618235e-01]\n",
            " [1.75521561e-04 9.99824478e-01]\n",
            " [1.10451647e-01 8.89548353e-01]\n",
            " [2.80431934e-04 9.99719568e-01]\n",
            " [2.19950239e-01 7.80049761e-01]\n",
            " [1.68533622e-05 9.99983147e-01]\n",
            " [2.35109952e-02 9.76489005e-01]\n",
            " [2.09660098e-02 9.79033990e-01]\n",
            " [9.68347823e-01 3.16521770e-02]\n",
            " [1.75521561e-04 9.99824478e-01]\n",
            " [4.76449643e-01 5.23550357e-01]\n",
            " [8.94415251e-02 9.10558475e-01]\n",
            " [1.28500313e-03 9.98714997e-01]\n",
            " [3.98504377e-04 9.99601496e-01]\n",
            " [2.86089926e-01 7.13910074e-01]\n",
            " [6.11518181e-05 9.99938848e-01]\n",
            " [5.05724084e-01 4.94275916e-01]\n",
            " [7.15687573e-04 9.99284312e-01]\n",
            " [1.09854140e-04 9.99890146e-01]\n",
            " [1.44450969e-03 9.98555490e-01]\n",
            " [1.35661814e-01 8.64338186e-01]\n",
            " [4.48019817e-04 9.99551980e-01]\n",
            " [9.04508576e-04 9.99095491e-01]\n",
            " [4.64709724e-03 9.95352903e-01]\n",
            " [9.34205137e-03 9.90657949e-01]\n",
            " [2.21861337e-04 9.99778139e-01]\n",
            " [1.10451647e-01 8.89548353e-01]\n",
            " [3.02767276e-05 9.99969723e-01]\n",
            " [2.09660098e-02 9.79033990e-01]\n",
            " [3.98504377e-04 9.99601496e-01]\n",
            " [8.03470067e-02 9.19652993e-01]\n",
            " [3.67986846e-03 9.96320132e-01]\n",
            " [4.63761416e-02 9.53623858e-01]\n",
            " [1.05474318e-05 9.99989453e-01]\n",
            " [5.92522444e-01 4.07477556e-01]\n",
            " [9.77093361e-05 9.99902291e-01]\n",
            " [9.94541326e-02 9.00545867e-01]\n",
            " [2.30615300e-03 9.97693847e-01]\n",
            " [2.59208521e-03 9.97407915e-01]\n",
            " [2.91336569e-03 9.97086634e-01]\n",
            " [2.35109952e-02 9.76489005e-01]\n",
            " [6.59157860e-03 9.93408421e-01]\n",
            " [4.13541709e-03 9.95864583e-01]\n",
            " [3.67986846e-03 9.96320132e-01]\n",
            " [5.92522444e-01 4.07477556e-01]\n",
            " [3.67986846e-03 9.96320132e-01]\n",
            " [9.60321071e-01 3.96789295e-02]\n",
            " [2.35109952e-02 9.76489005e-01]\n",
            " [3.10607161e-01 6.89392839e-01]\n",
            " [2.09660098e-02 9.79033990e-01]\n",
            " [4.47336131e-01 5.52663869e-01]\n",
            " [6.59157860e-03 9.93408421e-01]\n",
            " [1.44450969e-03 9.98555490e-01]\n",
            " [2.21861337e-04 9.99778139e-01]\n",
            " [1.10451647e-01 8.89548353e-01]\n",
            " [3.98504377e-04 9.99601496e-01]\n",
            " [2.30615300e-03 9.97693847e-01]\n",
            " [4.14611719e-02 9.58538828e-01]\n",
            " [1.49996251e-01 8.50003749e-01]\n",
            " [1.23508299e-04 9.99876492e-01]\n",
            " [6.46472225e-02 9.35352778e-01]\n",
            " [8.31774160e-03 9.91682258e-01]\n",
            " [1.65555197e-01 8.34444803e-01]\n",
            " [1.04911679e-02 9.89508832e-01]\n",
            " [8.06732917e-01 1.93267083e-01]\n",
            " [5.86705853e-03 9.94132941e-01]\n",
            " [5.63956319e-01 4.36043681e-01]\n",
            " [8.04582314e-04 9.99195418e-01]\n",
            " [1.82526578e-03 9.98174734e-01]\n",
            " [3.67986846e-03 9.96320132e-01]\n",
            " [1.10451647e-01 8.89548353e-01]\n",
            " [1.97336144e-04 9.99802664e-01]\n",
            " [4.14611719e-02 9.58538828e-01]\n",
            " [1.01683269e-03 9.98983167e-01]\n",
            " [2.35109952e-02 9.76489005e-01]\n",
            " [4.14611719e-02 9.58538828e-01]\n",
            " [6.46472225e-02 9.35352778e-01]\n",
            " [3.26808597e-06 9.99996732e-01]\n",
            " [7.21040025e-02 9.27895998e-01]\n",
            " [1.44450969e-03 9.98555490e-01]\n",
            " [1.04911679e-02 9.89508832e-01]\n",
            " [1.32249370e-02 9.86775063e-01]\n",
            " [6.36608161e-04 9.99363392e-01]\n",
            " [3.15281123e-04 9.99684719e-01]\n",
            " [2.59208521e-03 9.97407915e-01]\n",
            " [3.15281123e-04 9.99684719e-01]\n",
            " [1.65555197e-01 8.34444803e-01]\n",
            " [9.85810530e-01 1.41894698e-02]\n",
            " [9.99761729e-01 2.38271317e-04]\n",
            " [9.99948044e-01 5.19564358e-05]\n",
            " [9.50363134e-01 4.96368660e-02]\n",
            " [9.99989925e-01 1.00753132e-05]\n",
            " [9.38067295e-01 6.19327051e-02]\n",
            " [9.77517742e-01 2.24822581e-02]\n",
            " [9.99948044e-01 5.19564358e-05]\n",
            " [9.74793443e-01 2.52065566e-02]\n",
            " [9.99948044e-01 5.19564358e-05]\n",
            " [9.87359554e-01 1.26404462e-02]\n",
            " [9.99967483e-01 3.25166074e-05]\n",
            " [9.92051617e-01 7.94838281e-03]\n",
            " [9.99977120e-01 2.28798139e-05]\n",
            " [9.71748568e-01 2.82514324e-02]\n",
            " [9.99867355e-01 1.32644558e-04]\n",
            " [9.99832334e-01 1.67666195e-04]\n",
            " [9.99999980e-01 2.02452861e-08]\n",
            " [9.84074743e-01 1.59252567e-02]\n",
            " [9.99391870e-01 6.08129683e-04]\n",
            " [3.62866257e-01 6.37133743e-01]\n",
            " [9.98620060e-01 1.37993988e-03]\n",
            " [5.92522444e-01 4.07477556e-01]\n",
            " [9.99882020e-01 1.17980482e-04]\n",
            " [9.88741406e-01 1.12585939e-02]\n",
            " [9.99977120e-01 2.28798139e-05]\n",
            " [9.99867355e-01 1.32644558e-04]\n",
            " [9.99572026e-01 4.27974170e-04]\n",
            " [9.84074743e-01 1.59252567e-02]\n",
            " [9.99991039e-01 8.96134917e-06]\n",
            " [8.94415251e-02 9.10558475e-01]\n",
            " [9.99998262e-01 1.73771101e-06]\n",
            " [3.90365351e-01 6.09634649e-01]\n",
            " [9.99926161e-01 7.38391641e-05]\n",
            " [9.99661401e-01 3.38598559e-04]\n",
            " [9.95559992e-01 4.44000780e-03]\n",
            " [9.96048961e-01 3.95103924e-03]\n",
            " [9.99977120e-01 2.28798139e-05]\n",
            " [9.91072384e-01 8.92761641e-03]\n",
            " [9.99996054e-01 3.94617269e-06]\n",
            " [9.99231405e-01 7.68595342e-04]\n",
            " [9.79953656e-01 2.00463439e-02]\n",
            " [9.99916983e-01 8.30172660e-05]\n",
            " [9.55607590e-01 4.43924098e-02]\n",
            " [9.99916983e-01 8.30172660e-05]\n",
            " [9.99906664e-01 9.33360864e-05]\n",
            " [9.99788067e-01 2.11932502e-04]\n",
            " [9.99231405e-01 7.68595342e-04]\n",
            " [9.99958897e-01 4.11029300e-05]\n",
            " [9.99698827e-01 3.01172784e-04]\n",
            " [9.97796847e-01 2.20315258e-03]\n",
            " [9.99953788e-01 4.62121532e-05]\n",
            " [9.64552649e-01 3.54473509e-02]\n",
            " [9.99895063e-01 1.04937373e-04]\n",
            " [3.90365351e-01 6.09634649e-01]\n",
            " [9.99981900e-01 1.81001961e-05]\n",
            " [9.38067295e-01 6.19327051e-02]\n",
            " [9.99459072e-01 5.40928374e-04]\n",
            " [9.99811495e-01 1.88504664e-04]\n",
            " [9.60321071e-01 3.96789295e-02]\n",
            " [9.99974276e-01 2.57239048e-05]\n",
            " [9.89973729e-01 1.00262715e-02]\n",
            " [9.64552649e-01 3.54473509e-02]\n",
            " [9.99999733e-01 2.66567947e-07]\n",
            " [6.73906770e-01 3.26093230e-01]\n",
            " [9.99619327e-01 3.80673344e-04]\n",
            " [9.99906664e-01 9.33360864e-05]\n",
            " [9.99811495e-01 1.88504664e-04]\n",
            " [9.77517742e-01 2.24822581e-02]\n",
            " [9.99761729e-01 2.38271317e-04]\n",
            " [9.98908021e-01 1.09197853e-03]\n",
            " [9.99761729e-01 2.38271317e-04]\n",
            " [9.96048961e-01 3.95103924e-03]\n",
            " [9.85810530e-01 1.41894698e-02]\n",
            " [9.50363134e-01 4.96368660e-02]\n",
            " [9.88741406e-01 1.12585939e-02]\n",
            " [6.20476548e-01 3.79523452e-01]\n",
            " [9.89973729e-01 1.00262715e-02]\n",
            " [8.94415251e-02 9.10558475e-01]\n",
            " [9.99231405e-01 7.68595342e-04]\n",
            " [9.55607590e-01 4.43924098e-02]\n",
            " [9.98448787e-01 1.55121258e-03]\n",
            " [9.68347823e-01 3.16521770e-02]\n",
            " [9.99459072e-01 5.40928374e-04]\n",
            " [2.62770282e-01 7.37229718e-01]\n",
            " [9.99391870e-01 6.08129683e-04]\n",
            " [9.79953656e-01 2.00463439e-02]\n",
            " [9.98908021e-01 1.09197853e-03]\n",
            " [9.99811495e-01 1.88504664e-04]\n",
            " [9.30900492e-01 6.90995082e-02]\n",
            " [9.85810530e-01 1.41894698e-02]\n",
            " [9.82130468e-01 1.78695321e-02]\n",
            " [5.05724084e-01 4.94275916e-01]\n",
            " [9.77517742e-01 2.24822581e-02]\n",
            " [9.96871770e-01 3.12822995e-03]\n",
            " [9.98039961e-01 1.96003911e-03]\n",
            " [9.99761729e-01 2.38271317e-04]\n",
            " [9.94394090e-01 5.60590993e-03]\n",
            " [4.76449643e-01 5.23550357e-01]\n",
            " [9.30900492e-01 6.90995082e-02]\n",
            " [9.99999997e-01 3.10565822e-09]\n",
            " [9.99316326e-01 6.83673922e-04]\n",
            " [9.98448787e-01 1.55121258e-03]\n",
            " [4.18579303e-01 5.81420697e-01]\n",
            " [8.55749354e-01 1.44250646e-01]\n",
            " [7.87806023e-01 2.12193977e-01]\n",
            " [9.98908021e-01 1.09197853e-03]\n",
            " [4.47336131e-01 5.52663869e-01]\n",
            " [9.99619327e-01 3.80673344e-04]\n",
            " [9.44535066e-01 5.54649338e-02]\n",
            " [9.99619327e-01 3.80673344e-04]\n",
            " [9.99867355e-01 1.32644558e-04]\n",
            " [6.99112867e-01 3.00887133e-01]\n",
            " [9.55607590e-01 4.43924098e-02]\n",
            " [9.99867355e-01 1.32644558e-04]\n",
            " [9.14218618e-01 8.57813825e-02]\n",
            " [9.38067295e-01 6.19327051e-02]\n",
            " [9.87359554e-01 1.26404462e-02]\n",
            " [9.98620060e-01 1.37993988e-03]\n",
            " [9.30900492e-01 6.90995082e-02]\n",
            " [9.99788067e-01 2.11932502e-04]\n",
            " [9.85810530e-01 1.41894698e-02]\n",
            " [9.22972451e-01 7.70275486e-02]\n",
            " [7.46004298e-01 2.53995702e-01]\n",
            " [9.55607590e-01 4.43924098e-02]\n",
            " [5.92522444e-01 4.07477556e-01]\n",
            " [9.99850869e-01 1.49130996e-04]\n",
            " [9.44535066e-01 5.54649338e-02]\n",
            " [9.79953656e-01 2.00463439e-02]\n",
            " [9.64552649e-01 3.54473509e-02]\n",
            " [9.99998454e-01 1.54558180e-06]\n",
            " [9.68347823e-01 3.16521770e-02]\n",
            " [9.99698827e-01 3.01172784e-04]\n",
            " [9.99572026e-01 4.27974170e-04]\n",
            " [6.73906770e-01 3.26093230e-01]\n",
            " [9.99895063e-01 1.04937373e-04]\n",
            " [9.96484270e-01 3.51572957e-03]\n",
            " [9.84074743e-01 1.59252567e-02]\n",
            " [9.98039961e-01 1.96003911e-03]\n",
            " [9.85810530e-01 1.41894698e-02]\n",
            " [9.84074743e-01 1.59252567e-02]\n",
            " [9.98772445e-01 1.22755453e-03]\n",
            " [9.95559992e-01 4.44000780e-03]\n",
            " [9.99934324e-01 6.56756947e-05]\n",
            " [9.38067295e-01 6.19327051e-02]\n",
            " [9.38067295e-01 6.19327051e-02]\n",
            " [9.99316326e-01 6.83673922e-04]\n",
            " [9.99987264e-01 1.27358720e-05]\n",
            " [9.95010813e-01 4.98918651e-03]\n",
            " [9.99761729e-01 2.38271317e-04]\n",
            " [9.14218618e-01 8.57813825e-02]\n",
            " [9.99906664e-01 9.33360864e-05]\n",
            " [6.47653311e-01 3.52346689e-01]\n",
            " [9.99948044e-01 5.19564358e-05]\n",
            " [9.95559992e-01 4.44000780e-03]\n",
            " [9.99979650e-01 2.03501655e-05]\n",
            " [9.95559992e-01 4.44000780e-03]\n",
            " [9.99981900e-01 1.81001961e-05]\n",
            " [9.55607590e-01 4.43924098e-02]\n",
            " [9.99572026e-01 4.27974170e-04]\n",
            " [8.69618932e-01 1.30381068e-01]\n",
            " [9.99906664e-01 9.33360864e-05]\n",
            " [9.99518850e-01 4.81149563e-04]\n",
            " [9.91072384e-01 8.92761641e-03]\n",
            " [9.98448787e-01 1.55121258e-03]\n",
            " [9.99934324e-01 6.56756947e-05]\n",
            " [9.98620060e-01 1.37993988e-03]\n",
            " [9.99999763e-01 2.37094947e-07]\n",
            " [9.93701615e-01 6.29838520e-03]\n",
            " [9.99316326e-01 6.83673922e-04]\n",
            " [9.89973729e-01 1.00262715e-02]\n",
            " [2.00507596e-01 7.99492404e-01]\n",
            " [9.99995563e-01 4.43671482e-06]\n",
            " [6.20476548e-01 3.79523452e-01]\n",
            " [9.97796847e-01 2.20315258e-03]\n",
            " [9.99867355e-01 1.32644558e-04]\n",
            " [9.99698827e-01 3.01172784e-04]\n",
            " [6.73906770e-01 3.26093230e-01]\n",
            " [9.99958897e-01 4.11029300e-05]\n",
            " [9.79953656e-01 2.00463439e-02]\n",
            " [9.99999395e-01 6.05351010e-07]\n",
            " [9.99028638e-01 9.71361519e-04]\n",
            " [9.93701615e-01 6.29838520e-03]\n",
            " [9.89973729e-01 1.00262715e-02]\n",
            " [9.99850869e-01 1.49130996e-04]\n",
            " [9.38067295e-01 6.19327051e-02]\n",
            " [9.99732117e-01 2.67882623e-04]]\n",
            "Classes: [1 1 1 1 1 1 1 1 1 1 1 1 1 1 0 1 1 1 1 1 1 1 1 1 1 1 1 1 1 1 1 1 1 1 1 1 1\n",
            " 1 0 1 1 1 1 1 1 1 1 1 1 1 1 1 1 1 1 1 1 1 1 1 1 1 1 1 1 1 1 0 1 1 1 1 1 1\n",
            " 1 0 1 1 1 1 1 1 1 1 1 1 1 1 1 1 1 1 1 0 1 1 1 1 1 1 1 1 1 0 1 0 1 1 1 1 1\n",
            " 1 1 1 1 1 1 1 1 1 1 1 1 0 1 0 1 1 1 1 1 1 1 1 1 1 1 1 1 1 1 1 1 1 1 1 0 0\n",
            " 0 0 0 0 0 0 0 0 0 0 0 0 0 0 0 0 0 0 1 0 0 0 0 0 0 0 0 0 1 0 1 0 0 0 0 0 0\n",
            " 0 0 0 0 0 0 0 0 0 0 0 0 0 0 0 1 0 0 0 0 0 0 0 0 0 0 0 0 0 0 0 0 0 0 0 0 0\n",
            " 0 0 1 0 0 0 0 0 1 0 0 0 0 0 0 0 0 0 0 0 0 0 1 0 0 0 0 1 0 0 0 1 0 0 0 0 0\n",
            " 0 0 0 0 0 0 0 0 0 0 0 0 0 0 0 0 0 0 0 0 0 0 0 0 0 0 0 0 0 0 0 0 0 0 0 0 0\n",
            " 0 0 0 0 0 0 0 0 0 0 0 0 0 0 0 0 0 0 0 0 0 1 0 0 0 0 0 0 0 0 0 0 0 0 0 0 0]\n"
          ]
        }
      ],
      "source": [
        "# Calculate predicted probabilities from the fitted moldel, .predict_proba() calculates predicted probabilities from a fitted model\n",
        "probs = logisticModel.predict_proba(X)\n",
        "\n",
        "print('Probabilities: {}'.format(probs))\n",
        "\n",
        "# Calculate the predicted classes from the fitted moldel, .predict() returns classifications based on those probabilities\n",
        "classes = logisticModel.predict(X)\n",
        "\n",
        "print('Classes: {}'.format(classes))"
      ],
      "id": "wwNDq3D_vl3p"
    },
    {
      "cell_type": "code",
      "execution_count": 7,
      "metadata": {
        "execution": {
          "iopub.execute_input": "2023-12-14T17:07:32.156158Z",
          "iopub.status.busy": "2023-12-14T17:07:32.156060Z",
          "iopub.status.idle": "2023-12-14T17:07:32.158430Z",
          "shell.execute_reply": "2023-12-14T17:07:32.158176Z"
        },
        "colab": {
          "base_uri": "https://localhost:8080/"
        },
        "outputId": "06ab7db6-bdf9-43e9-fe48-bcab8eea19b0",
        "id": "3J1rS_bfvl3q"
      },
      "outputs": [
        {
          "output_type": "execute_result",
          "data": {
            "text/plain": [
              "array([1, 1, 1, 1, 1, 1])"
            ]
          },
          "metadata": {},
          "execution_count": 7
        }
      ],
      "source": [
        "# Classify the first 6 instances in X\n",
        "logisticModel.predict(X)[0:6]"
      ],
      "id": "3J1rS_bfvl3q"
    },
    {
      "cell_type": "code",
      "execution_count": 8,
      "metadata": {
        "execution": {
          "iopub.execute_input": "2023-12-14T17:07:32.159755Z",
          "iopub.status.busy": "2023-12-14T17:07:32.159655Z",
          "iopub.status.idle": "2023-12-14T17:07:32.162189Z",
          "shell.execute_reply": "2023-12-14T17:07:32.161966Z"
        },
        "colab": {
          "base_uri": "https://localhost:8080/"
        },
        "outputId": "daeb6334-5197-463b-afa4-30efc71150eb",
        "id": "5SNM1sxovl3q"
      },
      "outputs": [
        {
          "output_type": "execute_result",
          "data": {
            "text/plain": [
              "0.9429429429429429"
            ]
          },
          "metadata": {},
          "execution_count": 8
        }
      ],
      "source": [
        "# Calculate the proportion of instances correctly classified\n",
        "logisticModel.score(X, np.ravel(y))"
      ],
      "id": "5SNM1sxovl3q"
    },
    {
      "cell_type": "code",
      "execution_count": 9,
      "metadata": {
        "execution": {
          "iopub.execute_input": "2023-12-14T17:07:32.163596Z",
          "iopub.status.busy": "2023-12-14T17:07:32.163503Z",
          "iopub.status.idle": "2023-12-14T17:07:32.225875Z",
          "shell.execute_reply": "2023-12-14T17:07:32.225556Z"
        },
        "colab": {
          "base_uri": "https://localhost:8080/",
          "height": 506
        },
        "outputId": "62bf2e65-141e-4d9c-b317-63474cd8db77",
        "id": "86zf5inFvl3r"
      },
      "outputs": [
        {
          "output_type": "stream",
          "name": "stderr",
          "text": [
            "/usr/local/lib/python3.10/dist-packages/sklearn/base.py:493: UserWarning: X does not have valid feature names, but LogisticRegression was fitted with feature names\n",
            "  warnings.warn(\n"
          ]
        },
        {
          "output_type": "execute_result",
          "data": {
            "text/plain": [
              "Text(0, 0.5, 'Probability of Adelie')"
            ]
          },
          "metadata": {},
          "execution_count": 9
        },
        {
          "output_type": "display_data",
          "data": {
            "text/plain": [
              "<Figure size 640x480 with 1 Axes>"
            ],
            "image/png": "[encoded data removed]"
          },
          "metadata": {}
        }
      ],
      "source": [
        "# Plot logistic regression model\n",
        "plt.scatter(X, y, color='black')\n",
        "\n",
        "xrange = np.linspace(X.min(), X.max(), 10000)\n",
        "yhat = logisticModel.predict(X).reshape(-1, 1).astype(int)\n",
        "yprob = logisticModel.predict_proba(xrange.reshape(-1, 1))[:, 1]\n",
        "\n",
        "plt.plot(xrange, yprob, color='#4878d0', linewidth=2)\n",
        "plt.xlabel('Bill length (mm)', fontsize=14)\n",
        "plt.ylabel('Probability of Adelie', fontsize=14)"
      ],
      "id": "86zf5inFvl3r"
    },
    {
      "cell_type": "code",
      "execution_count": 10,
      "id": "b9e8659f",
      "metadata": {
        "execution": {
          "iopub.execute_input": "2023-12-14T17:07:32.146236Z",
          "iopub.status.busy": "2023-12-14T17:07:32.146147Z",
          "iopub.status.idle": "2023-12-14T17:07:32.150707Z",
          "shell.execute_reply": "2023-12-14T17:07:32.150452Z"
        },
        "id": "b9e8659f",
        "colab": {
          "base_uri": "https://localhost:8080/"
        },
        "outputId": "66ba2106-b5a4-4f40-b090-c04949ef448e"
      },
      "outputs": [
        {
          "output_type": "stream",
          "name": "stdout",
          "text": [
            "w1: [[-1.14305418]]\n",
            "w0: [49.01692562]\n"
          ]
        }
      ],
      "source": [
        "# Initialize a logistic regression model, with penalty=None\n",
        "logisticModel = LogisticRegression(penalty='l2')\n",
        "\n",
        "# Fit the model\n",
        "logisticModel.fit(X, np.ravel(y))\n",
        "\n",
        "# Print the intercept and weight of the fitted model\n",
        "print('w1:', logisticModel.coef_)\n",
        "print('w0:', logisticModel.intercept_)"
      ]
    },
    {
      "cell_type": "code",
      "execution_count": 11,
      "id": "0c50c9f2",
      "metadata": {
        "execution": {
          "iopub.execute_input": "2023-12-14T17:07:32.152181Z",
          "iopub.status.busy": "2023-12-14T17:07:32.152099Z",
          "iopub.status.idle": "2023-12-14T17:07:32.154784Z",
          "shell.execute_reply": "2023-12-14T17:07:32.154528Z"
        },
        "id": "0c50c9f2",
        "colab": {
          "base_uri": "https://localhost:8080/"
        },
        "outputId": "a613ad70-3f19-4511-ced7-382ed0a65857"
      },
      "outputs": [
        {
          "output_type": "stream",
          "name": "stdout",
          "text": [
            "Probabilities: [[1.30799652e-02 9.86920035e-01]\n",
            " [2.05066613e-02 9.79493339e-01]\n",
            " [4.96495104e-02 9.50350490e-01]\n",
            " [8.52199486e-04 9.99147801e-01]\n",
            " [1.63845452e-02 9.83615455e-01]\n",
            " [1.04348115e-02 9.89565189e-01]\n",
            " [1.46406871e-02 9.85359313e-01]\n",
            " [1.15331850e-01 8.84668150e-01]\n",
            " [7.42806258e-03 9.92571937e-01]\n",
            " [7.73377420e-05 9.99922662e-01]\n",
            " [7.60219551e-04 9.99239780e-01]\n",
            " [8.32007603e-03 9.91679924e-01]\n",
            " [3.92426682e-01 6.07573318e-01]\n",
            " [6.15338273e-05 9.99938466e-01]\n",
            " [9.72443311e-01 2.75566890e-02]\n",
            " [2.99002877e-03 9.97009971e-01]\n",
            " [2.66792391e-03 9.97332076e-01]\n",
            " [3.41684610e-04 9.99658315e-01]\n",
            " [4.71511319e-03 9.95284887e-01]\n",
            " [9.31820304e-03 9.90681797e-01]\n",
            " [1.72125733e-04 9.99827874e-01]\n",
            " [6.85661583e-02 9.31433842e-01]\n",
            " [6.16163575e-02 9.38383643e-01]\n",
            " [3.35089145e-03 9.96649109e-01]\n",
            " [6.16163575e-02 9.38383643e-01]\n",
            " [2.05066613e-02 9.79493339e-01]\n",
            " [1.50822829e-03 9.98491772e-01]\n",
            " [2.05066613e-02 9.79493339e-01]\n",
            " [9.39774090e-02 9.06022591e-01]\n",
            " [6.04953631e-04 9.99395046e-01]\n",
            " [1.46406871e-02 9.85359313e-01]\n",
            " [9.31820304e-03 9.90681797e-01]\n",
            " [3.14311397e-01 6.85688603e-01]\n",
            " [2.38043539e-03 9.97619565e-01]\n",
            " [2.86545644e-02 9.71345436e-01]\n",
            " [6.78160493e-04 9.99321840e-01]\n",
            " [8.46861273e-02 9.15313873e-01]\n",
            " [3.83044879e-04 9.99616955e-01]\n",
            " [8.00873634e-01 1.99126366e-01]\n",
            " [1.20037389e-03 9.98799626e-01]\n",
            " [2.29329565e-02 9.77067043e-01]\n",
            " [1.15331850e-01 8.84668150e-01]\n",
            " [3.83044879e-04 9.99616955e-01]\n",
            " [3.39452733e-01 6.60547267e-01]\n",
            " [2.29329565e-02 9.77067043e-01]\n",
            " [3.99079674e-02 9.60092033e-01]\n",
            " [1.22163331e-04 9.99877837e-01]\n",
            " [2.67244087e-01 7.32755913e-01]\n",
            " [6.89847197e-05 9.99931015e-01]\n",
            " [1.55187227e-01 8.44812773e-01]\n",
            " [1.16836461e-02 9.88316354e-01]\n",
            " [6.85661583e-02 9.31433842e-01]\n",
            " [6.78160493e-04 9.99321840e-01]\n",
            " [2.38043539e-03 9.97619565e-01]\n",
            " [2.71876281e-04 9.99728124e-01]\n",
            " [1.40784653e-01 8.59215347e-01]\n",
            " [2.38043539e-03 9.97619565e-01]\n",
            " [1.15331850e-01 8.84668150e-01]\n",
            " [6.04953631e-04 9.99395046e-01]\n",
            " [1.87570877e-01 8.12429123e-01]\n",
            " [2.16327149e-04 9.99783673e-01]\n",
            " [1.15331850e-01 8.84668150e-01]\n",
            " [3.41684610e-04 9.99658315e-01]\n",
            " [2.24913098e-01 7.75086902e-01]\n",
            " [2.19963788e-05 9.99978004e-01]\n",
            " [2.56388105e-02 9.74361190e-01]\n",
            " [2.29329565e-02 9.77067043e-01]\n",
            " [9.65608720e-01 3.43912804e-02]\n",
            " [2.16327149e-04 9.99783673e-01]\n",
            " [4.76465682e-01 5.23534318e-01]\n",
            " [9.39774090e-02 9.06022591e-01]\n",
            " [1.50822829e-03 9.98491772e-01]\n",
            " [4.81383675e-04 9.99518616e-01]\n",
            " [2.90214026e-01 7.09785974e-01]\n",
            " [7.73377420e-05 9.99922662e-01]\n",
            " [5.05024465e-01 4.94975535e-01]\n",
            " [8.52199486e-04 9.99147801e-01]\n",
            " [1.36954610e-04 9.99863045e-01]\n",
            " [1.69055764e-03 9.98309442e-01]\n",
            " [1.40784653e-01 8.59215347e-01]\n",
            " [5.39645121e-04 9.99460355e-01]\n",
            " [1.07085493e-03 9.98929145e-01]\n",
            " [5.28307085e-03 9.94716929e-01]\n",
            " [1.04348115e-02 9.89565189e-01]\n",
            " [2.71876281e-04 9.99728124e-01]\n",
            " [1.15331850e-01 8.84668150e-01]\n",
            " [3.89542535e-05 9.99961046e-01]\n",
            " [2.29329565e-02 9.77067043e-01]\n",
            " [4.81383675e-04 9.99518616e-01]\n",
            " [8.46861273e-02 9.15313873e-01]\n",
            " [4.20795564e-03 9.95792044e-01]\n",
            " [4.96495104e-02 9.50350490e-01]\n",
            " [1.39247000e-05 9.99986075e-01]\n",
            " [5.89770033e-01 4.10229967e-01]\n",
            " [1.22163331e-04 9.99877837e-01]\n",
            " [1.04172061e-01 8.95827939e-01]\n",
            " [2.66792391e-03 9.97332076e-01]\n",
            " [2.99002877e-03 9.97009971e-01]\n",
            " [3.35089145e-03 9.96649109e-01]\n",
            " [2.56388105e-02 9.74361190e-01]\n",
            " [7.42806258e-03 9.92571937e-01]\n",
            " [4.71511319e-03 9.95284887e-01]\n",
            " [4.20795564e-03 9.95792044e-01]\n",
            " [5.89770033e-01 4.10229967e-01]\n",
            " [4.20795564e-03 9.95792044e-01]\n",
            " [9.57153705e-01 4.28462951e-02]\n",
            " [2.56388105e-02 9.74361190e-01]\n",
            " [3.14311397e-01 6.85688603e-01]\n",
            " [2.29329565e-02 9.77067043e-01]\n",
            " [4.48059973e-01 5.51940027e-01]\n",
            " [7.42806258e-03 9.92571937e-01]\n",
            " [1.69055764e-03 9.98309442e-01]\n",
            " [2.71876281e-04 9.99728124e-01]\n",
            " [1.15331850e-01 8.84668150e-01]\n",
            " [4.81383675e-04 9.99518616e-01]\n",
            " [2.66792391e-03 9.97332076e-01]\n",
            " [4.45254267e-02 9.55474573e-01]\n",
            " [1.55187227e-01 8.44812773e-01]\n",
            " [1.53536510e-04 9.99846463e-01]\n",
            " [6.85661583e-02 9.31433842e-01]\n",
            " [9.31820304e-03 9.90681797e-01]\n",
            " [1.70770372e-01 8.29229628e-01]\n",
            " [1.16836461e-02 9.88316354e-01]\n",
            " [8.00873634e-01 1.99126366e-01]\n",
            " [6.63104436e-03 9.93368956e-01]\n",
            " [5.61858807e-01 4.38141193e-01]\n",
            " [9.55297552e-04 9.99044702e-01]\n",
            " [2.12385991e-03 9.97876140e-01]\n",
            " [4.20795564e-03 9.95792044e-01]\n",
            " [1.15331850e-01 8.84668150e-01]\n",
            " [2.42516818e-04 9.99757483e-01]\n",
            " [4.45254267e-02 9.55474573e-01]\n",
            " [1.20037389e-03 9.98799626e-01]\n",
            " [2.56388105e-02 9.74361190e-01]\n",
            " [4.45254267e-02 9.55474573e-01]\n",
            " [6.85661583e-02 9.31433842e-01]\n",
            " [4.43984538e-06 9.99995560e-01]\n",
            " [7.62361538e-02 9.23763846e-01]\n",
            " [1.69055764e-03 9.98309442e-01]\n",
            " [1.16836461e-02 9.88316354e-01]\n",
            " [1.46406871e-02 9.85359313e-01]\n",
            " [7.60219551e-04 9.99239780e-01]\n",
            " [3.83044879e-04 9.99616955e-01]\n",
            " [2.99002877e-03 9.97009971e-01]\n",
            " [3.83044879e-04 9.99616955e-01]\n",
            " [1.70770372e-01 8.29229628e-01]\n",
            " [9.84250837e-01 1.57491628e-02]\n",
            " [9.99707216e-01 2.92783827e-04]\n",
            " [9.99933733e-01 6.62669098e-05]\n",
            " [9.46734708e-01 5.32652921e-02]\n",
            " [9.99986624e-01 1.33760758e-05]\n",
            " [9.33956925e-01 6.60430749e-02]\n",
            " [9.75346452e-01 2.46535485e-02]\n",
            " [9.99933733e-01 6.62669098e-05]\n",
            " [9.72443311e-01 2.75566890e-02]\n",
            " [9.99933733e-01 6.62669098e-05]\n",
            " [9.85928037e-01 1.40719630e-02]\n",
            " [9.99958049e-01 4.19506246e-05]\n",
            " [9.91045646e-01 8.95435438e-03]\n",
            " [9.99970227e-01 2.97726220e-05]\n",
            " [9.69209096e-01 3.07909037e-02]\n",
            " [9.99834655e-01 1.65345120e-04]\n",
            " [9.99792194e-01 2.07805655e-04]\n",
            " [9.99999969e-01 3.12821989e-08]\n",
            " [9.82377309e-01 1.76226906e-02]\n",
            " [9.99269711e-01 7.30288862e-04]\n",
            " [3.65533037e-01 6.34466963e-01]\n",
            " [9.98375942e-01 1.62405804e-03]\n",
            " [5.89770033e-01 4.10229967e-01]\n",
            " [9.99852512e-01 1.47488081e-04]\n",
            " [9.87428905e-01 1.25710946e-02]\n",
            " [9.99970227e-01 2.97726220e-05]\n",
            " [9.99834655e-01 1.65345120e-04]\n",
            " [9.99481606e-01 5.18394187e-04]\n",
            " [9.82377309e-01 1.76226906e-02]\n",
            " [9.99988069e-01 1.19312827e-05]\n",
            " [9.39774090e-02 9.06022591e-01]\n",
            " [9.99997592e-01 2.40824297e-06]\n",
            " [3.92426682e-01 6.07573318e-01]\n",
            " [9.99906629e-01 9.33709082e-05]\n",
            " [9.99587502e-01 4.12497870e-04]\n",
            " [9.94924025e-01 5.07597504e-03]\n",
            " [9.95469820e-01 4.53017987e-03]\n",
            " [9.99970227e-01 2.97726220e-05]\n",
            " [9.89972196e-01 1.00278038e-02]\n",
            " [9.99994640e-01 5.36036675e-06]\n",
            " [9.99082307e-01 9.17693479e-04]\n",
            " [9.77950677e-01 2.20493235e-02]\n",
            " [9.99895324e-01 1.04676426e-04]\n",
            " [9.52213195e-01 4.77868053e-02]\n",
            " [9.99895324e-01 1.04676426e-04]\n",
            " [9.99882649e-01 1.17350675e-04]\n",
            " [9.99738833e-01 2.61167184e-04]\n",
            " [9.99082307e-01 9.17693479e-04]\n",
            " [9.99947275e-01 5.27251927e-05]\n",
            " [9.99632041e-01 3.67958508e-04]\n",
            " [9.97436923e-01 2.56307744e-03]\n",
            " [9.99940890e-01 5.91095448e-05]\n",
            " [9.61604029e-01 3.83959708e-02]\n",
            " [9.99868441e-01 1.31559324e-04]\n",
            " [3.92426682e-01 6.07573318e-01]\n",
            " [9.99976312e-01 2.36883768e-05]\n",
            " [9.33956925e-01 6.60430749e-02]\n",
            " [9.99348542e-01 6.51458454e-04]\n",
            " [9.99767036e-01 2.32963909e-04]\n",
            " [9.57153705e-01 4.28462951e-02]\n",
            " [9.99966622e-01 3.33778017e-05]\n",
            " [9.88771519e-01 1.12284806e-02]\n",
            " [9.61604029e-01 3.83959708e-02]\n",
            " [9.99999613e-01 3.86745960e-07]\n",
            " [6.69501446e-01 3.30498554e-01]\n",
            " [9.99537574e-01 4.62425984e-04]\n",
            " [9.99882649e-01 1.17350675e-04]\n",
            " [9.99767036e-01 2.32963909e-04]\n",
            " [9.75346452e-01 2.46535485e-02]\n",
            " [9.99707216e-01 2.92783827e-04]\n",
            " [9.98707409e-01 1.29259147e-03]\n",
            " [9.99707216e-01 2.92783827e-04]\n",
            " [9.95469820e-01 4.53017987e-03]\n",
            " [9.84250837e-01 1.57491628e-02]\n",
            " [9.46734708e-01 5.32652921e-02]\n",
            " [9.87428905e-01 1.25710946e-02]\n",
            " [6.17114881e-01 3.82885119e-01]\n",
            " [9.88771519e-01 1.12284806e-02]\n",
            " [9.39774090e-02 9.06022591e-01]\n",
            " [9.99082307e-01 9.17693479e-04]\n",
            " [9.52213195e-01 4.77868053e-02]\n",
            " [9.98179636e-01 1.82036449e-03]\n",
            " [9.65608720e-01 3.43912804e-02]\n",
            " [9.99348542e-01 6.51458454e-04]\n",
            " [2.67244087e-01 7.32755913e-01]\n",
            " [9.99269711e-01 7.30288862e-04]\n",
            " [9.77950677e-01 2.20493235e-02]\n",
            " [9.98707409e-01 1.29259147e-03]\n",
            " [9.99767036e-01 2.32963909e-04]\n",
            " [9.26546911e-01 7.34530888e-02]\n",
            " [9.84250837e-01 1.57491628e-02]\n",
            " [9.80285370e-01 1.97146298e-02]\n",
            " [5.05024465e-01 4.94975535e-01]\n",
            " [9.75346452e-01 2.46535485e-02]\n",
            " [9.96392276e-01 3.60772375e-03]\n",
            " [9.97713139e-01 2.28686099e-03]\n",
            " [9.99707216e-01 2.92783827e-04]\n",
            " [9.93628553e-01 6.37144659e-03]\n",
            " [4.76465682e-01 5.23534318e-01]\n",
            " [9.26546911e-01 7.34530888e-02]\n",
            " [9.99999995e-01 5.02367911e-09]\n",
            " [9.99181350e-01 8.18650412e-04]\n",
            " [9.98179636e-01 1.82036449e-03]\n",
            " [4.19989202e-01 5.80010798e-01]\n",
            " [8.50010040e-01 1.49989960e-01]\n",
            " [7.82016783e-01 2.17983217e-01]\n",
            " [9.98707409e-01 1.29259147e-03]\n",
            " [4.48059973e-01 5.51940027e-01]\n",
            " [9.99537574e-01 4.62425984e-04]\n",
            " [9.40667279e-01 5.93327208e-02]\n",
            " [9.99537574e-01 4.62425984e-04]\n",
            " [9.99834655e-01 1.65345120e-04]\n",
            " [6.94286531e-01 3.05713469e-01]\n",
            " [9.52213195e-01 4.77868053e-02]\n",
            " [9.99834655e-01 1.65345120e-04]\n",
            " [9.09389788e-01 9.06102122e-02]\n",
            " [9.33956925e-01 6.60430749e-02]\n",
            " [9.85928037e-01 1.40719630e-02]\n",
            " [9.98375942e-01 1.62405804e-03]\n",
            " [9.26546911e-01 7.34530888e-02]\n",
            " [9.99738833e-01 2.61167184e-04]\n",
            " [9.84250837e-01 1.57491628e-02]\n",
            " [9.18378155e-01 8.16218450e-02]\n",
            " [7.40553486e-01 2.59446514e-01]\n",
            " [9.52213195e-01 4.77868053e-02]\n",
            " [5.89770033e-01 4.10229967e-01]\n",
            " [9.99814636e-01 1.85363789e-04]\n",
            " [9.40667279e-01 5.93327208e-02]\n",
            " [9.77950677e-01 2.20493235e-02]\n",
            " [9.61604029e-01 3.83959708e-02]\n",
            " [9.99997852e-01 2.14811834e-06]\n",
            " [9.65608720e-01 3.43912804e-02]\n",
            " [9.99632041e-01 3.67958508e-04]\n",
            " [9.99481606e-01 5.18394187e-04]\n",
            " [6.69501446e-01 3.30498554e-01]\n",
            " [9.99868441e-01 1.31559324e-04]\n",
            " [9.95957167e-01 4.04283295e-03]\n",
            " [9.82377309e-01 1.76226906e-02]\n",
            " [9.97713139e-01 2.28686099e-03]\n",
            " [9.84250837e-01 1.57491628e-02]\n",
            " [9.82377309e-01 1.76226906e-02]\n",
            " [9.98551110e-01 1.44889037e-03]\n",
            " [9.94924025e-01 5.07597504e-03]\n",
            " [9.99916714e-01 8.32863349e-05]\n",
            " [9.33956925e-01 6.60430749e-02]\n",
            " [9.33956925e-01 6.60430749e-02]\n",
            " [9.99181350e-01 8.18650412e-04]\n",
            " [9.99983188e-01 1.68117008e-05]\n",
            " [9.94312848e-01 5.68715183e-03]\n",
            " [9.99707216e-01 2.92783827e-04]\n",
            " [9.09389788e-01 9.06102122e-02]\n",
            " [9.99882649e-01 1.17350675e-04]\n",
            " [6.43738052e-01 3.56261948e-01]\n",
            " [9.99933733e-01 6.62669098e-05]\n",
            " [9.94924025e-01 5.07597504e-03]\n",
            " [9.99973443e-01 2.65568321e-05]\n",
            " [9.94924025e-01 5.07597504e-03]\n",
            " [9.99976312e-01 2.36883768e-05]\n",
            " [9.52213195e-01 4.77868053e-02]\n",
            " [9.99481606e-01 5.18394187e-04]\n",
            " [8.64007912e-01 1.35992088e-01]\n",
            " [9.99882649e-01 1.17350675e-04]\n",
            " [9.99418868e-01 5.81132379e-04]\n",
            " [9.89972196e-01 1.00278038e-02]\n",
            " [9.98179636e-01 1.82036449e-03]\n",
            " [9.99916714e-01 8.32863349e-05]\n",
            " [9.98375942e-01 1.62405804e-03]\n",
            " [9.99999655e-01 3.44971798e-07]\n",
            " [9.92862513e-01 7.13748666e-03]\n",
            " [9.99181350e-01 8.18650412e-04]\n",
            " [9.88771519e-01 1.12284806e-02]\n",
            " [2.05614390e-01 7.94385610e-01]\n",
            " [9.99993991e-01 6.00947364e-06]\n",
            " [6.17114881e-01 3.82885119e-01]\n",
            " [9.97436923e-01 2.56307744e-03]\n",
            " [9.99834655e-01 1.65345120e-04]\n",
            " [9.99632041e-01 3.67958508e-04]\n",
            " [6.69501446e-01 3.30498554e-01]\n",
            " [9.99947275e-01 5.27251927e-05]\n",
            " [9.77950677e-01 2.20493235e-02]\n",
            " [9.99999139e-01 8.60837276e-07]\n",
            " [9.98846866e-01 1.15313383e-03]\n",
            " [9.92862513e-01 7.13748666e-03]\n",
            " [9.88771519e-01 1.12284806e-02]\n",
            " [9.99814636e-01 1.85363789e-04]\n",
            " [9.33956925e-01 6.60430749e-02]\n",
            " [9.99671773e-01 3.28226694e-04]]\n",
            "Classes: [1 1 1 1 1 1 1 1 1 1 1 1 1 1 0 1 1 1 1 1 1 1 1 1 1 1 1 1 1 1 1 1 1 1 1 1 1\n",
            " 1 0 1 1 1 1 1 1 1 1 1 1 1 1 1 1 1 1 1 1 1 1 1 1 1 1 1 1 1 1 0 1 1 1 1 1 1\n",
            " 1 0 1 1 1 1 1 1 1 1 1 1 1 1 1 1 1 1 1 0 1 1 1 1 1 1 1 1 1 0 1 0 1 1 1 1 1\n",
            " 1 1 1 1 1 1 1 1 1 1 1 1 0 1 0 1 1 1 1 1 1 1 1 1 1 1 1 1 1 1 1 1 1 1 1 0 0\n",
            " 0 0 0 0 0 0 0 0 0 0 0 0 0 0 0 0 0 0 1 0 0 0 0 0 0 0 0 0 1 0 1 0 0 0 0 0 0\n",
            " 0 0 0 0 0 0 0 0 0 0 0 0 0 0 0 1 0 0 0 0 0 0 0 0 0 0 0 0 0 0 0 0 0 0 0 0 0\n",
            " 0 0 1 0 0 0 0 0 1 0 0 0 0 0 0 0 0 0 0 0 0 0 1 0 0 0 0 1 0 0 0 1 0 0 0 0 0\n",
            " 0 0 0 0 0 0 0 0 0 0 0 0 0 0 0 0 0 0 0 0 0 0 0 0 0 0 0 0 0 0 0 0 0 0 0 0 0\n",
            " 0 0 0 0 0 0 0 0 0 0 0 0 0 0 0 0 0 0 0 0 0 1 0 0 0 0 0 0 0 0 0 0 0 0 0 0 0]\n"
          ]
        }
      ],
      "source": [
        "# Calculate predicted probabilities from the fitted moldel, .predict_proba() calculates predicted probabilities from a fitted model\n",
        "probs = logisticModel.predict_proba(X)\n",
        "\n",
        "print('Probabilities: {}'.format(probs))\n",
        "\n",
        "# Calculate the predicted classes from the fitted moldel, .predict() returns classifications based on those probabilities\n",
        "classes = logisticModel.predict(X)\n",
        "\n",
        "print('Classes: {}'.format(classes))"
      ]
    },
    {
      "cell_type": "code",
      "execution_count": 12,
      "id": "1d467e9e",
      "metadata": {
        "execution": {
          "iopub.execute_input": "2023-12-14T17:07:32.156158Z",
          "iopub.status.busy": "2023-12-14T17:07:32.156060Z",
          "iopub.status.idle": "2023-12-14T17:07:32.158430Z",
          "shell.execute_reply": "2023-12-14T17:07:32.158176Z"
        },
        "id": "1d467e9e",
        "colab": {
          "base_uri": "https://localhost:8080/"
        },
        "outputId": "137a000a-4404-4d3a-a349-5e602126a3a9"
      },
      "outputs": [
        {
          "output_type": "execute_result",
          "data": {
            "text/plain": [
              "array([1, 1, 1, 1, 1, 1])"
            ]
          },
          "metadata": {},
          "execution_count": 12
        }
      ],
      "source": [
        "# Classify the first 6 instances in X\n",
        "logisticModel.predict(X)[0:6]"
      ]
    },
    {
      "cell_type": "code",
      "execution_count": 13,
      "id": "ac6aed6f",
      "metadata": {
        "execution": {
          "iopub.execute_input": "2023-12-14T17:07:32.159755Z",
          "iopub.status.busy": "2023-12-14T17:07:32.159655Z",
          "iopub.status.idle": "2023-12-14T17:07:32.162189Z",
          "shell.execute_reply": "2023-12-14T17:07:32.161966Z"
        },
        "id": "ac6aed6f",
        "colab": {
          "base_uri": "https://localhost:8080/"
        },
        "outputId": "e3e224e5-5818-4207-9003-1e894be3d9c5"
      },
      "outputs": [
        {
          "output_type": "execute_result",
          "data": {
            "text/plain": [
              "0.9429429429429429"
            ]
          },
          "metadata": {},
          "execution_count": 13
        }
      ],
      "source": [
        "# Calculate the proportion of instances correctly classified\n",
        "logisticModel.score(X, np.ravel(y))"
      ]
    },
    {
      "cell_type": "code",
      "execution_count": 14,
      "id": "c0708570",
      "metadata": {
        "execution": {
          "iopub.execute_input": "2023-12-14T17:07:32.163596Z",
          "iopub.status.busy": "2023-12-14T17:07:32.163503Z",
          "iopub.status.idle": "2023-12-14T17:07:32.225875Z",
          "shell.execute_reply": "2023-12-14T17:07:32.225556Z"
        },
        "id": "c0708570",
        "colab": {
          "base_uri": "https://localhost:8080/",
          "height": 506
        },
        "outputId": "0471a306-c58c-4e8f-8cea-c873fa395781"
      },
      "outputs": [
        {
          "output_type": "stream",
          "name": "stderr",
          "text": [
            "/usr/local/lib/python3.10/dist-packages/sklearn/base.py:493: UserWarning: X does not have valid feature names, but LogisticRegression was fitted with feature names\n",
            "  warnings.warn(\n"
          ]
        },
        {
          "output_type": "execute_result",
          "data": {
            "text/plain": [
              "Text(0, 0.5, 'Probability of Adelie')"
            ]
          },
          "metadata": {},
          "execution_count": 14
        },
        {
          "output_type": "display_data",
          "data": {
            "text/plain": [
              "<Figure size 640x480 with 1 Axes>"
            ],
            "image/png": "[encoded data removed]"
          },
          "metadata": {}
        }
      ],
      "source": [
        "# Plot logistic regression model\n",
        "plt.scatter(X, y, color='black')\n",
        "\n",
        "xrange = np.linspace(X.min(), X.max(), 10000)\n",
        "yhat = logisticModel.predict(X).reshape(-1, 1).astype(int)\n",
        "yprob = logisticModel.predict_proba(xrange.reshape(-1, 1))[:, 1]\n",
        "\n",
        "plt.plot(xrange, yprob, color='#4878d0', linewidth=2)\n",
        "plt.xlabel('Bill length (mm)', fontsize=14)\n",
        "plt.ylabel('Probability of Adelie', fontsize=14)"
      ]
    },
    {
      "cell_type": "code",
      "execution_count": 15,
      "id": "c2831466",
      "metadata": {
        "execution": {
          "iopub.execute_input": "2023-12-14T17:07:32.227775Z",
          "iopub.status.busy": "2023-12-14T17:07:32.227607Z",
          "iopub.status.idle": "2023-12-14T17:07:32.230268Z",
          "shell.execute_reply": "2023-12-14T17:07:32.229984Z"
        },
        "id": "c2831466"
      },
      "outputs": [],
      "source": [
        "# Use two input features\n",
        "X = penguins[['bill_length_mm', 'bill_depth_mm']]\n",
        "y = penguins[['Adelie']]"
      ]
    },
    {
      "cell_type": "code",
      "execution_count": 16,
      "metadata": {
        "execution": {
          "iopub.execute_input": "2023-12-14T17:07:32.231912Z",
          "iopub.status.busy": "2023-12-14T17:07:32.231797Z",
          "iopub.status.idle": "2023-12-14T17:07:32.240423Z",
          "shell.execute_reply": "2023-12-14T17:07:32.239916Z"
        },
        "colab": {
          "base_uri": "https://localhost:8080/"
        },
        "outputId": "6ccc6318-255f-4cb8-ce4f-cf0fc565dfc6",
        "id": "Hfs_AU3ov2yk"
      },
      "outputs": [
        {
          "output_type": "stream",
          "name": "stdout",
          "text": [
            "w1, w2: [[-2.2096875   3.99767721]]\n",
            "w0: [24.13003698]\n"
          ]
        }
      ],
      "source": [
        "# Initialize a logistic regression model\n",
        "logisticModel = LogisticRegression(penalty=None)\n",
        "\n",
        "# Fit the model\n",
        "logisticModel.fit(X, np.ravel(y))\n",
        "\n",
        "# Print the fitted model\n",
        "print('w1, w2:', logisticModel.coef_)\n",
        "print('w0:', logisticModel.intercept_)"
      ],
      "id": "Hfs_AU3ov2yk"
    },
    {
      "cell_type": "code",
      "execution_count": 17,
      "metadata": {
        "execution": {
          "iopub.execute_input": "2023-12-14T17:07:32.242351Z",
          "iopub.status.busy": "2023-12-14T17:07:32.242224Z",
          "iopub.status.idle": "2023-12-14T17:07:32.247314Z",
          "shell.execute_reply": "2023-12-14T17:07:32.246777Z"
        },
        "colab": {
          "base_uri": "https://localhost:8080/"
        },
        "outputId": "45d054b6-987b-44af-ca37-00099fd53a28",
        "id": "D32lV7Gcv2yl"
      },
      "outputs": [
        {
          "output_type": "execute_result",
          "data": {
            "text/plain": [
              "0.9819819819819819"
            ]
          },
          "metadata": {},
          "execution_count": 17
        }
      ],
      "source": [
        "# Proportion of instances correctly classified\n",
        "logisticModel.score(X, y)"
      ],
      "id": "D32lV7Gcv2yl"
    },
    {
      "cell_type": "code",
      "execution_count": 18,
      "metadata": {
        "execution": {
          "iopub.execute_input": "2023-12-14T17:07:32.249006Z",
          "iopub.status.busy": "2023-12-14T17:07:32.248885Z",
          "iopub.status.idle": "2023-12-14T17:07:32.460636Z",
          "shell.execute_reply": "2023-12-14T17:07:32.449415Z"
        },
        "colab": {
          "base_uri": "https://localhost:8080/",
          "height": 514
        },
        "outputId": "9f3ad816-04b5-4f22-b01a-323e9fc8800f",
        "id": "5FSea9Dev2yl"
      },
      "outputs": [
        {
          "output_type": "stream",
          "name": "stderr",
          "text": [
            "/usr/local/lib/python3.10/dist-packages/sklearn/base.py:493: UserWarning: X does not have valid feature names, but LogisticRegression was fitted with feature names\n",
            "  warnings.warn(\n"
          ]
        },
        {
          "output_type": "display_data",
          "data": {
            "text/plain": [
              "<Figure size 640x480 with 1 Axes>"
            ],
            "image/png": "[encoded data removed]"
          },
          "metadata": {}
        }
      ],
      "source": [
        "# Decision boundary plot with two input features\n",
        "# Set background opacity to 20%\n",
        "contourf_kwargs = {'alpha': 0.2}\n",
        "\n",
        "# Plot decision boundary regions\n",
        "p = plot_decision_regions(X.to_numpy(), np.ravel(y),\n",
        "                          clf=logisticModel, contourf_kwargs=contourf_kwargs,\n",
        "                          colors='#7f7f7f,#1f77b4')\n",
        "\n",
        "# Add title and axis labels\n",
        "p.set_title('Decision boundary plot', fontsize=16)\n",
        "p.set_xlabel('Bill length (mm)', fontsize=14)\n",
        "p.set_ylabel('Bill depth (mm)', fontsize=14)\n",
        "\n",
        "# Add legend\n",
        "L = plt.legend()\n",
        "L.get_texts()[0].set_text('Chinstrap or Gentoo')\n",
        "L.get_texts()[1].set_text('Adelie')"
      ],
      "id": "5FSea9Dev2yl"
    },
    {
      "cell_type": "code",
      "execution_count": 19,
      "id": "1459bff0",
      "metadata": {
        "execution": {
          "iopub.execute_input": "2023-12-14T17:07:32.231912Z",
          "iopub.status.busy": "2023-12-14T17:07:32.231797Z",
          "iopub.status.idle": "2023-12-14T17:07:32.240423Z",
          "shell.execute_reply": "2023-12-14T17:07:32.239916Z"
        },
        "id": "1459bff0",
        "colab": {
          "base_uri": "https://localhost:8080/"
        },
        "outputId": "7ccbfdc8-c77b-4dcb-adad-b3ac9adfe40a"
      },
      "outputs": [
        {
          "output_type": "stream",
          "name": "stdout",
          "text": [
            "w1, w2: [[-1.37707394  1.98295306]]\n",
            "w0: [24.28390878]\n"
          ]
        }
      ],
      "source": [
        "# Initialize a logistic regression model\n",
        "logisticModel = LogisticRegression(penalty='l2')\n",
        "\n",
        "# Fit the model\n",
        "logisticModel.fit(X, np.ravel(y))\n",
        "\n",
        "# Print the fitted model\n",
        "print('w1, w2:', logisticModel.coef_)\n",
        "print('w0:', logisticModel.intercept_)"
      ]
    },
    {
      "cell_type": "code",
      "execution_count": 20,
      "id": "3a6b680c",
      "metadata": {
        "execution": {
          "iopub.execute_input": "2023-12-14T17:07:32.242351Z",
          "iopub.status.busy": "2023-12-14T17:07:32.242224Z",
          "iopub.status.idle": "2023-12-14T17:07:32.247314Z",
          "shell.execute_reply": "2023-12-14T17:07:32.246777Z"
        },
        "id": "3a6b680c",
        "colab": {
          "base_uri": "https://localhost:8080/"
        },
        "outputId": "1363b7ee-f154-427c-b18f-d92b27b95303"
      },
      "outputs": [
        {
          "output_type": "execute_result",
          "data": {
            "text/plain": [
              "0.9819819819819819"
            ]
          },
          "metadata": {},
          "execution_count": 20
        }
      ],
      "source": [
        "# Proportion of instances correctly classified\n",
        "logisticModel.score(X, y)"
      ]
    },
    {
      "cell_type": "code",
      "execution_count": 21,
      "id": "256f57b0",
      "metadata": {
        "execution": {
          "iopub.execute_input": "2023-12-14T17:07:32.249006Z",
          "iopub.status.busy": "2023-12-14T17:07:32.248885Z",
          "iopub.status.idle": "2023-12-14T17:07:32.460636Z",
          "shell.execute_reply": "2023-12-14T17:07:32.449415Z"
        },
        "id": "256f57b0",
        "colab": {
          "base_uri": "https://localhost:8080/",
          "height": 514
        },
        "outputId": "14f05730-95b6-40c6-a267-17bc18985ce4"
      },
      "outputs": [
        {
          "output_type": "stream",
          "name": "stderr",
          "text": [
            "/usr/local/lib/python3.10/dist-packages/sklearn/base.py:493: UserWarning: X does not have valid feature names, but LogisticRegression was fitted with feature names\n",
            "  warnings.warn(\n"
          ]
        },
        {
          "output_type": "display_data",
          "data": {
            "text/plain": [
              "<Figure size 640x480 with 1 Axes>"
            ],
            "image/png": "[encoded data removed]"
          },
          "metadata": {}
        }
      ],
      "source": [
        "# Decision boundary plot with two input features\n",
        "# Set background opacity to 20%\n",
        "contourf_kwargs = {'alpha': 0.2}\n",
        "\n",
        "# Plot decision boundary regions\n",
        "p = plot_decision_regions(X.to_numpy(), np.ravel(y),\n",
        "                          clf=logisticModel, contourf_kwargs=contourf_kwargs,\n",
        "                          colors='#7f7f7f,#1f77b4')\n",
        "\n",
        "# Add title and axis labels\n",
        "p.set_title('Decision boundary plot', fontsize=16)\n",
        "p.set_xlabel('Bill length (mm)', fontsize=14)\n",
        "p.set_ylabel('Bill depth (mm)', fontsize=14)\n",
        "\n",
        "# Add legend\n",
        "L = plt.legend()\n",
        "L.get_texts()[0].set_text('Chinstrap or Gentoo')\n",
        "L.get_texts()[1].set_text('Adelie')"
      ]
    },
    {
      "cell_type": "markdown",
      "source": [
        "2. The target species to Chinstrap."
      ],
      "metadata": {
        "id": "5C7rTtHaia2y"
      },
      "id": "5C7rTtHaia2y"
    },
    {
      "cell_type": "code",
      "source": [
        "# Define the input feature \"bill_length_mm\" and the output feature \"Chinstrap\"\n",
        "X = penguins[['bill_length_mm']]\n",
        "y = penguins[['Chinstrap']]"
      ],
      "metadata": {
        "id": "tD42ocWgilIU"
      },
      "id": "tD42ocWgilIU",
      "execution_count": 22,
      "outputs": []
    },
    {
      "cell_type": "code",
      "source": [
        "# Initialize a logistic regression model, with penalty=None\n",
        "logisticModel = LogisticRegression(penalty=None)\n",
        "\n",
        "# Fit the model\n",
        "logisticModel.fit(X, np.ravel(y))\n",
        "\n",
        "# Print the intercept and weight of the fitted model\n",
        "print('w1: ', logisticModel.coef_)\n",
        "print('w0: ', logisticModel.intercept_)"
      ],
      "metadata": {
        "colab": {
          "base_uri": "https://localhost:8080/"
        },
        "id": "5-pKcDSxqIVj",
        "outputId": "a3d23dfb-38b0-4f33-9c65-08c8b1a801f5"
      },
      "id": "5-pKcDSxqIVj",
      "execution_count": 23,
      "outputs": [
        {
          "output_type": "stream",
          "name": "stdout",
          "text": [
            "w1:  [[0.26976076]]\n",
            "w0:  [-13.77399262]\n"
          ]
        }
      ]
    },
    {
      "cell_type": "code",
      "source": [
        "# Calculate predicted probabilities from the fited model\n",
        "probs = logisticModel.predict_proba(X)\n",
        "\n",
        "print('Probabilities: {}'.format(probs))\n",
        "\n",
        "# Calculate the predicted classes from the fitted model\n",
        "classes = logisticModel.predict(X)\n",
        "\n",
        "print('Classes: {}'.format(classes))"
      ],
      "metadata": {
        "colab": {
          "base_uri": "https://localhost:8080/"
        },
        "id": "bt3slyXoq5FJ",
        "outputId": "99b63cf4-9356-44c6-ebd1-5d573d0dd729"
      },
      "id": "bt3slyXoq5FJ",
      "execution_count": 24,
      "outputs": [
        {
          "output_type": "stream",
          "name": "stdout",
          "text": [
            "Probabilities: [[0.9618138  0.0381862 ]\n",
            " [0.9576471  0.0423529 ]\n",
            " [0.94797649 0.05202351]\n",
            " [0.97964318 0.02035682]\n",
            " [0.95978212 0.04021788]\n",
            " [0.96374673 0.03625327]\n",
            " [0.96081059 0.03918941]\n",
            " [0.93624474 0.06375526]\n",
            " [0.96647057 0.03352943]\n",
            " [0.9883447  0.0116553 ]\n",
            " [0.98017425 0.01982575]\n",
            " [0.96558532 0.03441468]\n",
            " [0.90963285 0.09036715]\n",
            " [0.9889501  0.0110499 ]\n",
            " [0.79657073 0.20342927]\n",
            " [0.97280196 0.02719804]\n",
            " [0.97350667 0.02649333]\n",
            " [0.98352957 0.01647043]\n",
            " [0.96979659 0.03020341]\n",
            " [0.96467755 0.03532245]\n",
            " [0.98595629 0.01404371]\n",
            " [0.94383755 0.05616245]\n",
            " [0.9452505  0.0547495 ]\n",
            " [0.97207905 0.02792095]\n",
            " [0.9452505  0.0547495 ]\n",
            " [0.9576471  0.0423529 ]\n",
            " [0.97677194 0.02322806]\n",
            " [0.9576471  0.0423529 ]\n",
            " [0.93939038 0.06060962]\n",
            " [0.98119597 0.01880403]\n",
            " [0.96081059 0.03918941]\n",
            " [0.96467755 0.03532245]\n",
            " [0.91606837 0.08393163]\n",
            " [0.97419361 0.02580639]\n",
            " [0.95424041 0.04575959]\n",
            " [0.98069173 0.01930827]\n",
            " [0.9409082  0.0590918 ]\n",
            " [0.98308684 0.01691316]\n",
            " [0.86732865 0.13267135]\n",
            " [0.97796506 0.02203494]\n",
            " [0.95653937 0.04346063]\n",
            " [0.93624474 0.06375526]\n",
            " [0.98308684 0.01691316]\n",
            " [0.91397084 0.08602916]\n",
            " [0.95653937 0.04346063]\n",
            " [0.95057384 0.04942616]\n",
            " [0.9870339  0.0129661 ]\n",
            " [0.92012456 0.07987544]\n",
            " [0.98865139 0.01134861]\n",
            " [0.93124014 0.06875986]\n",
            " [0.96279233 0.03720767]\n",
            " [0.94383755 0.05616245]\n",
            " [0.98069173 0.01930827]\n",
            " [0.97419361 0.02580639]\n",
            " [0.98438113 0.01561887]\n",
            " [0.93294751 0.06705249]\n",
            " [0.97419361 0.02580639]\n",
            " [0.93624474 0.06375526]\n",
            " [0.98119597 0.01880403]\n",
            " [0.92770407 0.07229593]\n",
            " [0.98518932 0.01481068]\n",
            " [0.93624474 0.06375526]\n",
            " [0.98352957 0.01647043]\n",
            " [0.92400098 0.07599902]\n",
            " [0.99131132 0.00868868]\n",
            " [0.95540401 0.04459599]\n",
            " [0.95653937 0.04346063]\n",
            " [0.80517371 0.19482629]\n",
            " [0.98518932 0.01481068]\n",
            " [0.90275626 0.09724374]\n",
            " [0.93939038 0.06060962]\n",
            " [0.97677194 0.02322806]\n",
            " [0.98216599 0.01783401]\n",
            " [0.91811934 0.08188066]\n",
            " [0.9883447  0.0116553 ]\n",
            " [0.90036223 0.09963777]\n",
            " [0.97964318 0.02035682]\n",
            " [0.98668408 0.01331592]\n",
            " [0.97615196 0.02384804]\n",
            " [0.93294751 0.06705249]\n",
            " [0.98168728 0.01831272]\n",
            " [0.97853894 0.02146106]\n",
            " [0.96899633 0.03100367]\n",
            " [0.96374673 0.03625327]\n",
            " [0.98438113 0.01561887]\n",
            " [0.93624474 0.06375526]\n",
            " [0.99006913 0.00993087]\n",
            " [0.95653937 0.04346063]\n",
            " [0.98216599 0.01783401]\n",
            " [0.9409082  0.0590918 ]\n",
            " [0.97057681 0.02942319]\n",
            " [0.94797649 0.05202351]\n",
            " [0.99219311 0.00780689]\n",
            " [0.89286328 0.10713672]\n",
            " [0.9870339  0.0129661 ]\n",
            " [0.93783613 0.06216387]\n",
            " [0.97350667 0.02649333]\n",
            " [0.97280196 0.02719804]\n",
            " [0.97207905 0.02792095]\n",
            " [0.95540401 0.04459599]\n",
            " [0.96647057 0.03352943]\n",
            " [0.96979659 0.03020341]\n",
            " [0.97057681 0.02942319]\n",
            " [0.89286328 0.10713672]\n",
            " [0.97057681 0.02942319]\n",
            " [0.81349805 0.18650195]\n",
            " [0.95540401 0.04459599]\n",
            " [0.91606837 0.08393163]\n",
            " [0.95653937 0.04346063]\n",
            " [0.90509882 0.09490118]\n",
            " [0.96647057 0.03352943]\n",
            " [0.97615196 0.02384804]\n",
            " [0.98438113 0.01561887]\n",
            " [0.93624474 0.06375526]\n",
            " [0.98216599 0.01783401]\n",
            " [0.97350667 0.02649333]\n",
            " [0.9492909  0.0507091 ]\n",
            " [0.93124014 0.06875986]\n",
            " [0.98632496 0.01367504]\n",
            " [0.94383755 0.05616245]\n",
            " [0.96467755 0.03532245]\n",
            " [0.92949259 0.07050741]\n",
            " [0.96279233 0.03720767]\n",
            " [0.86732865 0.13267135]\n",
            " [0.96733382 0.03266618]\n",
            " [0.89541655 0.10458345]\n",
            " [0.9790982  0.0209018 ]\n",
            " [0.97486319 0.02513681]\n",
            " [0.97057681 0.02942319]\n",
            " [0.93624474 0.06375526]\n",
            " [0.98479051 0.01520949]\n",
            " [0.9492909  0.0507091 ]\n",
            " [0.97796506 0.02203494]\n",
            " [0.95540401 0.04459599]\n",
            " [0.9492909  0.0507091 ]\n",
            " [0.94383755 0.05616245]\n",
            " [0.99402793 0.00597207]\n",
            " [0.94239035 0.05760965]\n",
            " [0.97615196 0.02384804]\n",
            " [0.96279233 0.03720767]\n",
            " [0.96081059 0.03918941]\n",
            " [0.98017425 0.01982575]\n",
            " [0.98308684 0.01691316]\n",
            " [0.97280196 0.02719804]\n",
            " [0.98308684 0.01691316]\n",
            " [0.92949259 0.07050741]\n",
            " [0.77383908 0.22616092]\n",
            " [0.57100544 0.42899456]\n",
            " [0.48382202 0.51617798]\n",
            " [0.82154555 0.17845445]\n",
            " [0.39116935 0.60883065]\n",
            " [0.82931866 0.17068134]\n",
            " [0.79216438 0.20783562]\n",
            " [0.48382202 0.51617798]\n",
            " [0.79657073 0.20342927]\n",
            " [0.48382202 0.51617798]\n",
            " [0.76908309 0.23091691]\n",
            " [0.45694717 0.54305283]\n",
            " [0.74936656 0.25063344]\n",
            " [0.43694572 0.56305428]\n",
            " [0.80090713 0.19909287]\n",
            " [0.53769685 0.46230315]\n",
            " [0.55107776 0.44892224]\n",
            " [0.13329527 0.86670473]\n",
            " [0.77852532 0.22147468]\n",
            " [0.62287357 0.37712643]\n",
            " [0.91182594 0.08817406]\n",
            " [0.66609941 0.33390059]\n",
            " [0.89286328 0.10713672]\n",
            " [0.53098475 0.46901525]\n",
            " [0.76425756 0.23574244]\n",
            " [0.43694572 0.56305428]\n",
            " [0.53769685 0.46230315]\n",
            " [0.60368301 0.39631699]\n",
            " [0.77852532 0.22147468]\n",
            " [0.38476403 0.61523597]\n",
            " [0.93939038 0.06060962]\n",
            " [0.300054   0.699946  ]\n",
            " [0.90963285 0.09036715]\n",
            " [0.50404834 0.49595166]\n",
            " [0.59070552 0.40929448]\n",
            " [0.72319315 0.27680685]\n",
            " [0.71776057 0.28223943]\n",
            " [0.43694572 0.56305428]\n",
            " [0.75439895 0.24560105]\n",
            " [0.34114223 0.65885777]\n",
            " [0.63546055 0.36453945]\n",
            " [0.78768803 0.21231197]\n",
            " [0.51079077 0.48920923]\n",
            " [0.81755627 0.18244373]\n",
            " [0.51079077 0.48920923]\n",
            " [0.51752928 0.48247072]\n",
            " [0.56438514 0.43561486]\n",
            " [0.63546055 0.36453945]\n",
            " [0.47036312 0.52963688]\n",
            " [0.58416784 0.41583216]\n",
            " [0.68965351 0.31034649]\n",
            " [0.47708841 0.52291159]\n",
            " [0.80937061 0.19062939]\n",
            " [0.52426142 0.47573858]\n",
            " [0.90963285 0.09036715]\n",
            " [0.42372039 0.57627961]\n",
            " [0.82931866 0.17068134]\n",
            " [0.61651615 0.38348385]\n",
            " [0.55774182 0.44225818]\n",
            " [0.81349805 0.18650195]\n",
            " [0.44359339 0.55640661]\n",
            " [0.75936274 0.24063726]\n",
            " [0.80937061 0.19062939]\n",
            " [0.21777876 0.78222124]\n",
            " [0.8848721  0.1151279 ]\n",
            " [0.59721128 0.40278872]\n",
            " [0.51752928 0.48247072]\n",
            " [0.55774182 0.44225818]\n",
            " [0.79216438 0.20783562]\n",
            " [0.57100544 0.42899456]\n",
            " [0.65399432 0.34600568]\n",
            " [0.57100544 0.42899456]\n",
            " [0.71776057 0.28223943]\n",
            " [0.77383908 0.22616092]\n",
            " [0.82154555 0.17845445]\n",
            " [0.76425756 0.23574244]\n",
            " [0.89025531 0.10974469]\n",
            " [0.75936274 0.24063726]\n",
            " [0.93939038 0.06060962]\n",
            " [0.63546055 0.36453945]\n",
            " [0.81755627 0.18244373]\n",
            " [0.67207206 0.32792794]\n",
            " [0.80517371 0.19482629]\n",
            " [0.61651615 0.38348385]\n",
            " [0.92012456 0.07987544]\n",
            " [0.62287357 0.37712643]\n",
            " [0.78768803 0.21231197]\n",
            " [0.65399432 0.34600568]\n",
            " [0.55774182 0.44225818]\n",
            " [0.83310325 0.16689675]\n",
            " [0.77383908 0.22616092]\n",
            " [0.78314167 0.21685833]\n",
            " [0.90036223 0.09963777]\n",
            " [0.79216438 0.20783562]\n",
            " [0.70670371 0.29329629]\n",
            " [0.68385044 0.31614956]\n",
            " [0.57100544 0.42899456]\n",
            " [0.73386249 0.26613751]\n",
            " [0.90275626 0.09724374]\n",
            " [0.83310325 0.16689675]\n",
            " [0.09081296 0.90918704]\n",
            " [0.62918899 0.37081101]\n",
            " [0.67207206 0.32792794]\n",
            " [0.90739075 0.09260925]\n",
            " [0.85773635 0.14226365]\n",
            " [0.87040214 0.12959786]\n",
            " [0.65399432 0.34600568]\n",
            " [0.90509882 0.09490118]\n",
            " [0.59721128 0.40278872]\n",
            " [0.82546622 0.17453378]\n",
            " [0.59721128 0.40278872]\n",
            " [0.53769685 0.46230315]\n",
            " [0.88209529 0.11790471]\n",
            " [0.81755627 0.18244373]\n",
            " [0.53769685 0.46230315]\n",
            " [0.84047068 0.15952932]\n",
            " [0.82931866 0.17068134]\n",
            " [0.76908309 0.23091691]\n",
            " [0.66609941 0.33390059]\n",
            " [0.83310325 0.16689675]\n",
            " [0.56438514 0.43561486]\n",
            " [0.77383908 0.22616092]\n",
            " [0.83682044 0.16317956]\n",
            " [0.87636741 0.12363259]\n",
            " [0.81755627 0.18244373]\n",
            " [0.89286328 0.10713672]\n",
            " [0.54439532 0.45560468]\n",
            " [0.82546622 0.17453378]\n",
            " [0.78768803 0.21231197]\n",
            " [0.80937061 0.19062939]\n",
            " [0.29441918 0.70558082]\n",
            " [0.80517371 0.19482629]\n",
            " [0.58416784 0.41583216]\n",
            " [0.60368301 0.39631699]\n",
            " [0.8848721  0.1151279 ]\n",
            " [0.52426142 0.47573858]\n",
            " [0.71226379 0.28773621]\n",
            " [0.77852532 0.22147468]\n",
            " [0.68385044 0.31614956]\n",
            " [0.77383908 0.22616092]\n",
            " [0.77852532 0.22147468]\n",
            " [0.660073   0.339927  ]\n",
            " [0.72319315 0.27680685]\n",
            " [0.49730444 0.50269556]\n",
            " [0.82931866 0.17068134]\n",
            " [0.82931866 0.17068134]\n",
            " [0.62918899 0.37081101]\n",
            " [0.40409111 0.59590889]\n",
            " [0.72856071 0.27143929]\n",
            " [0.57100544 0.42899456]\n",
            " [0.84047068 0.15952932]\n",
            " [0.51752928 0.48247072]\n",
            " [0.88759184 0.11240816]\n",
            " [0.48382202 0.51617798]\n",
            " [0.72319315 0.27680685]\n",
            " [0.43032063 0.56967937]\n",
            " [0.72319315 0.27680685]\n",
            " [0.42372039 0.57627961]\n",
            " [0.81755627 0.18244373]\n",
            " [0.60368301 0.39631699]\n",
            " [0.85441273 0.14558727]\n",
            " [0.51752928 0.48247072]\n",
            " [0.61011864 0.38988136]\n",
            " [0.75439895 0.24560105]\n",
            " [0.67207206 0.32792794]\n",
            " [0.49730444 0.50269556]\n",
            " [0.66609941 0.33390059]\n",
            " [0.21321835 0.78678165]\n",
            " [0.7390978  0.2609022 ]\n",
            " [0.62918899 0.37081101]\n",
            " [0.75936274 0.24063726]\n",
            " [0.92587379 0.07412621]\n",
            " [0.34723121 0.65276879]\n",
            " [0.89025531 0.10974469]\n",
            " [0.68965351 0.31034649]\n",
            " [0.53769685 0.46230315]\n",
            " [0.58416784 0.41583216]\n",
            " [0.8848721  0.1151279 ]\n",
            " [0.47036312 0.52963688]\n",
            " [0.78768803 0.21231197]\n",
            " [0.25165116 0.74834884]\n",
            " [0.64786493 0.35213507]\n",
            " [0.7390978  0.2609022 ]\n",
            " [0.75936274 0.24063726]\n",
            " [0.54439532 0.45560468]\n",
            " [0.82931866 0.17068134]\n",
            " [0.57760041 0.42239959]]\n",
            "Classes: [0 0 0 0 0 0 0 0 0 0 0 0 0 0 0 0 0 0 0 0 0 0 0 0 0 0 0 0 0 0 0 0 0 0 0 0 0\n",
            " 0 0 0 0 0 0 0 0 0 0 0 0 0 0 0 0 0 0 0 0 0 0 0 0 0 0 0 0 0 0 0 0 0 0 0 0 0\n",
            " 0 0 0 0 0 0 0 0 0 0 0 0 0 0 0 0 0 0 0 0 0 0 0 0 0 0 0 0 0 0 0 0 0 0 0 0 0\n",
            " 0 0 0 0 0 0 0 0 0 0 0 0 0 0 0 0 0 0 0 0 0 0 0 0 0 0 0 0 0 0 0 0 0 0 0 0 0\n",
            " 1 0 1 0 0 1 0 1 0 1 0 1 0 0 0 1 0 0 0 0 0 0 0 1 0 0 0 1 0 1 0 0 0 0 0 1 0\n",
            " 1 0 0 0 0 0 0 0 0 1 0 0 1 0 0 0 1 0 0 0 0 1 0 0 1 0 0 0 0 0 0 0 0 0 0 0 0\n",
            " 0 0 0 0 0 0 0 0 0 0 0 0 0 0 0 0 0 0 0 0 0 0 0 0 1 0 0 0 0 0 0 0 0 0 0 0 0\n",
            " 0 0 0 0 0 0 0 0 0 0 0 0 0 0 0 0 0 1 0 0 0 0 0 0 0 0 0 0 0 0 1 0 0 0 1 0 0\n",
            " 0 0 0 1 0 1 0 1 0 0 0 0 0 0 0 1 0 1 0 0 0 0 1 0 0 0 0 0 1 0 1 0 0 0 0 0 0]\n"
          ]
        }
      ]
    },
    {
      "cell_type": "code",
      "source": [
        "# Classify the first 6 instance in X\n",
        "logisticModel.predict(X)[0:6]"
      ],
      "metadata": {
        "colab": {
          "base_uri": "https://localhost:8080/"
        },
        "id": "aqBfYSjHrtw4",
        "outputId": "2cd4f1df-a6ba-4d9b-c5dc-2792f59da792"
      },
      "id": "aqBfYSjHrtw4",
      "execution_count": 25,
      "outputs": [
        {
          "output_type": "execute_result",
          "data": {
            "text/plain": [
              "array([0, 0, 0, 0, 0, 0])"
            ]
          },
          "metadata": {},
          "execution_count": 25
        }
      ]
    },
    {
      "cell_type": "code",
      "source": [
        "# Calculate the proportion of instances correctly classified\n",
        "logisticModel.score(X, np.ravel(y))"
      ],
      "metadata": {
        "colab": {
          "base_uri": "https://localhost:8080/"
        },
        "id": "MGEJ0jQkr48g",
        "outputId": "d8ad84aa-24e5-476e-92df-c5d5bee6c672"
      },
      "id": "MGEJ0jQkr48g",
      "execution_count": 26,
      "outputs": [
        {
          "output_type": "execute_result",
          "data": {
            "text/plain": [
              "0.8108108108108109"
            ]
          },
          "metadata": {},
          "execution_count": 26
        }
      ]
    },
    {
      "cell_type": "code",
      "source": [
        "# Plot logistic regression model\n",
        "plt.scatter(X, y, color='black')\n",
        "\n",
        "xrange = np.linspace(X.min(), X.max(), 10000)\n",
        "yhat = logisticModel.predict(X).reshape(-1, 1).astype(int)\n",
        "yprob = logisticModel.predict_proba(xrange.reshape(-1, 1))[:, 1]\n",
        "\n",
        "plt.plot(xrange, yprob, color='#4878d0', linewidth=2)\n",
        "plt.xlabel('Bill length (mm)', fontsize=14)\n",
        "plt.ylabel('Probability of Chinstrap', fontsize=14)"
      ],
      "metadata": {
        "colab": {
          "base_uri": "https://localhost:8080/",
          "height": 506
        },
        "id": "2Ip3RZWKsIF0",
        "outputId": "093c4498-b5c5-40d3-a5e7-3cd698cca789"
      },
      "id": "2Ip3RZWKsIF0",
      "execution_count": 27,
      "outputs": [
        {
          "output_type": "stream",
          "name": "stderr",
          "text": [
            "/usr/local/lib/python3.10/dist-packages/sklearn/base.py:493: UserWarning: X does not have valid feature names, but LogisticRegression was fitted with feature names\n",
            "  warnings.warn(\n"
          ]
        },
        {
          "output_type": "execute_result",
          "data": {
            "text/plain": [
              "Text(0, 0.5, 'Probability of Chinstrap')"
            ]
          },
          "metadata": {},
          "execution_count": 27
        },
        {
          "output_type": "display_data",
          "data": {
            "text/plain": [
              "<Figure size 640x480 with 1 Axes>"
            ],
            "image/png": "[encoded data removed]"
          },
          "metadata": {}
        }
      ]
    },
    {
      "cell_type": "code",
      "source": [
        "# Initialize a logistic regression model, with penalty=None\n",
        "logisticModel = LogisticRegression(penalty='l2')\n",
        "\n",
        "# Fit the model\n",
        "logisticModel.fit(X, np.ravel(y))\n",
        "\n",
        "# Print the intercept and weight of the fitted model\n",
        "print('w1: ', logisticModel.coef_)\n",
        "print('w0: ', logisticModel.intercept_)"
      ],
      "metadata": {
        "colab": {
          "base_uri": "https://localhost:8080/"
        },
        "outputId": "bb2d845d-930b-4b6f-d518-a069989f9674",
        "id": "tsH72C9R28Ty"
      },
      "execution_count": 28,
      "outputs": [
        {
          "output_type": "stream",
          "name": "stdout",
          "text": [
            "w1:  [[0.26936153]]\n",
            "w0:  [-13.75501826]\n"
          ]
        }
      ],
      "id": "tsH72C9R28Ty"
    },
    {
      "cell_type": "code",
      "source": [
        "# Calculate predicted probabilities from the fited model\n",
        "probs = logisticModel.predict_proba(X)\n",
        "\n",
        "print('Probabilities: {}'.format(probs))\n",
        "\n",
        "# Calculate the predicted classes from the fitted model\n",
        "classes = logisticModel.predict(X)\n",
        "\n",
        "print('Classes: {}'.format(classes))"
      ],
      "metadata": {
        "colab": {
          "base_uri": "https://localhost:8080/"
        },
        "outputId": "4f3a596e-a958-432c-cbb9-957607fb748b",
        "id": "pxhGpVEW28Ty"
      },
      "execution_count": 29,
      "outputs": [
        {
          "output_type": "stream",
          "name": "stdout",
          "text": [
            "Probabilities: [[0.96169004 0.03830996]\n",
            " [0.95751693 0.04248307]\n",
            " [0.947834   0.052166  ]\n",
            " [0.9795568  0.0204432 ]\n",
            " [0.95965514 0.04034486]\n",
            " [0.9636262  0.0363738 ]\n",
            " [0.96068522 0.03931478]\n",
            " [0.9360914  0.0639086 ]\n",
            " [0.96635488 0.03364512]\n",
            " [0.98828509 0.01171491]\n",
            " [0.98008929 0.01991071]\n",
            " [0.96546801 0.03453199]\n",
            " [0.90946773 0.09053227]\n",
            " [0.98889268 0.01110732]\n",
            " [0.79647189 0.20352811]\n",
            " [0.97269903 0.02730097]\n",
            " [0.9734053  0.0265947 ]\n",
            " [0.98345421 0.01654579]\n",
            " [0.96968732 0.03031268]\n",
            " [0.96455863 0.03544137]\n",
            " [0.98588854 0.01411146]\n",
            " [0.94369077 0.05630923]\n",
            " [0.94510512 0.05489488]\n",
            " [0.97197454 0.02802546]\n",
            " [0.94510512 0.05489488]\n",
            " [0.95751693 0.04248307]\n",
            " [0.97667821 0.02332179]\n",
            " [0.95751693 0.04248307]\n",
            " [0.93923955 0.06076045]\n",
            " [0.98111383 0.01888617]\n",
            " [0.96068522 0.03931478]\n",
            " [0.96455863 0.03544137]\n",
            " [0.91590469 0.08409531]\n",
            " [0.97409378 0.02590622]\n",
            " [0.95410551 0.04589449]\n",
            " [0.98060819 0.01939181]\n",
            " [0.9407587  0.0592413 ]\n",
            " [0.98301015 0.01698985]\n",
            " [0.86717112 0.13282888]\n",
            " [0.9778743  0.0221257 ]\n",
            " [0.95640761 0.04359239]\n",
            " [0.9360914  0.0639086 ]\n",
            " [0.98301015 0.01698985]\n",
            " [0.91380661 0.08619339]\n",
            " [0.95640761 0.04359239]\n",
            " [0.95043434 0.04956566]\n",
            " [0.98696973 0.01303027]\n",
            " [0.91996222 0.08003778]\n",
            " [0.98859289 0.01140711]\n",
            " [0.93108334 0.06891666]\n",
            " [0.96267018 0.03732982]\n",
            " [0.94369077 0.05630923]\n",
            " [0.98060819 0.01939181]\n",
            " [0.97409378 0.02590622]\n",
            " [0.98430837 0.01569163]\n",
            " [0.93279181 0.06720819]\n",
            " [0.97409378 0.02590622]\n",
            " [0.9360914  0.0639086 ]\n",
            " [0.98111383 0.01888617]\n",
            " [0.92754519 0.07245481]\n",
            " [0.9851191  0.0148809 ]\n",
            " [0.9360914  0.0639086 ]\n",
            " [0.98345421 0.01654579]\n",
            " [0.92384026 0.07615974]\n",
            " [0.99126295 0.00873705]\n",
            " [0.95527067 0.04472933]\n",
            " [0.95640761 0.04359239]\n",
            " [0.8050655  0.1949345 ]\n",
            " [0.9851191  0.0148809 ]\n",
            " [0.90259045 0.09740955]\n",
            " [0.93923955 0.06076045]\n",
            " [0.97667821 0.02332179]\n",
            " [0.98208661 0.01791339]\n",
            " [0.9179563  0.0820437 ]\n",
            " [0.98828509 0.01171491]\n",
            " [0.90019638 0.09980362]\n",
            " [0.9795568  0.0204432 ]\n",
            " [0.98661874 0.01338126]\n",
            " [0.97605672 0.02394328]\n",
            " [0.93279181 0.06720819]\n",
            " [0.98160653 0.01839347]\n",
            " [0.97844966 0.02155034]\n",
            " [0.96888547 0.03111453]\n",
            " [0.9636262  0.0363738 ]\n",
            " [0.98430837 0.01569163]\n",
            " [0.9360914  0.0639086 ]\n",
            " [0.99001589 0.00998411]\n",
            " [0.95640761 0.04359239]\n",
            " [0.98208661 0.01791339]\n",
            " [0.9407587  0.0592413 ]\n",
            " [0.97046914 0.02953086]\n",
            " [0.947834   0.052166  ]\n",
            " [0.99214837 0.00785163]\n",
            " [0.8926979  0.1073021 ]\n",
            " [0.98696973 0.01303027]\n",
            " [0.93768404 0.06231596]\n",
            " [0.9734053  0.0265947 ]\n",
            " [0.97269903 0.02730097]\n",
            " [0.97197454 0.02802546]\n",
            " [0.95527067 0.04472933]\n",
            " [0.96635488 0.03364512]\n",
            " [0.96968732 0.03031268]\n",
            " [0.97046914 0.02953086]\n",
            " [0.8926979  0.1073021 ]\n",
            " [0.97046914 0.02953086]\n",
            " [0.81338128 0.18661872]\n",
            " [0.95527067 0.04472933]\n",
            " [0.91590469 0.08409531]\n",
            " [0.95640761 0.04359239]\n",
            " [0.90493315 0.09506685]\n",
            " [0.96635488 0.03364512]\n",
            " [0.97605672 0.02394328]\n",
            " [0.98430837 0.01569163]\n",
            " [0.9360914  0.0639086 ]\n",
            " [0.98208661 0.01791339]\n",
            " [0.9734053  0.0265947 ]\n",
            " [0.9491499  0.0508501 ]\n",
            " [0.93108334 0.06891666]\n",
            " [0.98625842 0.01374158]\n",
            " [0.94369077 0.05630923]\n",
            " [0.96455863 0.03544137]\n",
            " [0.92933472 0.07066528]\n",
            " [0.96267018 0.03732982]\n",
            " [0.86717112 0.13282888]\n",
            " [0.96721974 0.03278026]\n",
            " [0.89525091 0.10474909]\n",
            " [0.97901037 0.02098963]\n",
            " [0.97476491 0.02523509]\n",
            " [0.97046914 0.02953086]\n",
            " [0.9360914  0.0639086 ]\n",
            " [0.98471902 0.01528098]\n",
            " [0.9491499  0.0508501 ]\n",
            " [0.9778743  0.0221257 ]\n",
            " [0.95527067 0.04472933]\n",
            " [0.9491499  0.0508501 ]\n",
            " [0.94369077 0.05630923]\n",
            " [0.99399126 0.00600874]\n",
            " [0.9422422  0.0577578 ]\n",
            " [0.97605672 0.02394328]\n",
            " [0.96267018 0.03732982]\n",
            " [0.96068522 0.03931478]\n",
            " [0.98008929 0.01991071]\n",
            " [0.98301015 0.01698985]\n",
            " [0.97269903 0.02730097]\n",
            " [0.98301015 0.01698985]\n",
            " [0.92933472 0.07066528]\n",
            " [0.77376728 0.22623272]\n",
            " [0.57124722 0.42875278]\n",
            " [0.48419817 0.51580183]\n",
            " [0.821421   0.178579  ]\n",
            " [0.39166126 0.60833874]\n",
            " [0.82918709 0.17081291]\n",
            " [0.79207054 0.20792946]\n",
            " [0.48419817 0.51580183]\n",
            " [0.79647189 0.20352811]\n",
            " [0.48419817 0.51580183]\n",
            " [0.76901733 0.23098267]\n",
            " [0.45736057 0.54263943]\n",
            " [0.74932701 0.25067299]\n",
            " [0.43738507 0.56261493]\n",
            " [0.80080351 0.19919649]\n",
            " [0.53799184 0.46200816]\n",
            " [0.55135158 0.44864842]\n",
            " [0.13377903 0.86622097]\n",
            " [0.7784477  0.2215523 ]\n",
            " [0.62303041 0.37696959]\n",
            " [0.91166122 0.08833878]\n",
            " [0.66618576 0.33381424]\n",
            " [0.8926979  0.1073021 ]\n",
            " [0.53129023 0.46870977]\n",
            " [0.76419804 0.23580196]\n",
            " [0.43738507 0.56261493]\n",
            " [0.53799184 0.46200816]\n",
            " [0.6038714  0.3961286 ]\n",
            " [0.7784477  0.2215523 ]\n",
            " [0.38526244 0.61473756]\n",
            " [0.93923955 0.06076045]\n",
            " [0.30061377 0.69938623]\n",
            " [0.90946773 0.09053227]\n",
            " [0.5043949  0.4956051 ]\n",
            " [0.5909152  0.4090848 ]\n",
            " [0.72319096 0.27680904]\n",
            " [0.71776644 0.28223356]\n",
            " [0.43738507 0.56261493]\n",
            " [0.75435253 0.24564747]\n",
            " [0.34167837 0.65832163]\n",
            " [0.63559673 0.36440327]\n",
            " [0.78759939 0.21240061]\n",
            " [0.51112722 0.48887278]\n",
            " [0.81743551 0.18256449]\n",
            " [0.51112722 0.48887278]\n",
            " [0.5178555  0.4821445 ]\n",
            " [0.56463763 0.43536237]\n",
            " [0.63559673 0.36440327]\n",
            " [0.47075823 0.52924177]\n",
            " [0.58438822 0.41561178]\n",
            " [0.68970243 0.31029757]\n",
            " [0.47747412 0.52252588]\n",
            " [0.80925802 0.19074198]\n",
            " [0.52457731 0.47542269]\n",
            " [0.90946773 0.09053227]\n",
            " [0.42417596 0.57582404]\n",
            " [0.82918709 0.17081291]\n",
            " [0.61668344 0.38331656]\n",
            " [0.55800499 0.44199501]\n",
            " [0.81338128 0.18661872]\n",
            " [0.4440243  0.5559757 ]\n",
            " [0.75930967 0.24069033]\n",
            " [0.80925802 0.19074198]\n",
            " [0.21834189 0.78165811]\n",
            " [0.8847082  0.1152918 ]\n",
            " [0.5974103  0.4025897 ]\n",
            " [0.5178555  0.4821445 ]\n",
            " [0.55800499 0.44199501]\n",
            " [0.79207054 0.20792946]\n",
            " [0.57124722 0.42875278]\n",
            " [0.65410024 0.34589976]\n",
            " [0.57124722 0.42875278]\n",
            " [0.71776644 0.28223356]\n",
            " [0.77376728 0.22623272]\n",
            " [0.821421   0.178579  ]\n",
            " [0.76419804 0.23580196]\n",
            " [0.89009031 0.10990969]\n",
            " [0.75930967 0.24069033]\n",
            " [0.93923955 0.06076045]\n",
            " [0.63559673 0.36440327]\n",
            " [0.81743551 0.18256449]\n",
            " [0.67214883 0.32785117]\n",
            " [0.8050655  0.1949345 ]\n",
            " [0.61668344 0.38331656]\n",
            " [0.91996222 0.08003778]\n",
            " [0.62303041 0.37696959]\n",
            " [0.78759939 0.21240061]\n",
            " [0.65410024 0.34589976]\n",
            " [0.55800499 0.44199501]\n",
            " [0.83296846 0.16703154]\n",
            " [0.77376728 0.22623272]\n",
            " [0.78305843 0.21694157]\n",
            " [0.90019638 0.09980362]\n",
            " [0.79207054 0.20792946]\n",
            " [0.70672626 0.29327374]\n",
            " [0.68390849 0.31609151]\n",
            " [0.57124722 0.42875278]\n",
            " [0.73384476 0.26615524]\n",
            " [0.90259045 0.09740955]\n",
            " [0.83296846 0.16703154]\n",
            " [0.09121169 0.90878831]\n",
            " [0.62933546 0.37066454]\n",
            " [0.67214883 0.32785117]\n",
            " [0.90722531 0.09277469]\n",
            " [0.85758393 0.14241607]\n",
            " [0.8702432  0.1297568 ]\n",
            " [0.65410024 0.34589976]\n",
            " [0.90493315 0.09506685]\n",
            " [0.5974103  0.4025897 ]\n",
            " [0.82533807 0.17466193]\n",
            " [0.5974103  0.4025897 ]\n",
            " [0.53799184 0.46200816]\n",
            " [0.88193212 0.11806788]\n",
            " [0.81743551 0.18256449]\n",
            " [0.53799184 0.46200816]\n",
            " [0.84032999 0.15967001]\n",
            " [0.82918709 0.17081291]\n",
            " [0.76901733 0.23098267]\n",
            " [0.66618576 0.33381424]\n",
            " [0.83296846 0.16703154]\n",
            " [0.56463763 0.43536237]\n",
            " [0.77376728 0.22623272]\n",
            " [0.8366826  0.1633174 ]\n",
            " [0.87620608 0.12379392]\n",
            " [0.81743551 0.18256449]\n",
            " [0.8926979  0.1073021 ]\n",
            " [0.54467975 0.45532025]\n",
            " [0.82533807 0.17466193]\n",
            " [0.78759939 0.21240061]\n",
            " [0.80925802 0.19074198]\n",
            " [0.29498117 0.70501883]\n",
            " [0.8050655  0.1949345 ]\n",
            " [0.58438822 0.41561178]\n",
            " [0.6038714  0.3961286 ]\n",
            " [0.8847082  0.1152918 ]\n",
            " [0.52457731 0.47542269]\n",
            " [0.71227791 0.28772209]\n",
            " [0.7784477  0.2215523 ]\n",
            " [0.68390849 0.31609151]\n",
            " [0.77376728 0.22623272]\n",
            " [0.7784477  0.2215523 ]\n",
            " [0.66016907 0.33983093]\n",
            " [0.72319096 0.27680904]\n",
            " [0.497661   0.502339  ]\n",
            " [0.82918709 0.17081291]\n",
            " [0.82918709 0.17081291]\n",
            " [0.62933546 0.37066454]\n",
            " [0.40456924 0.59543076]\n",
            " [0.72855065 0.27144935]\n",
            " [0.57124722 0.42875278]\n",
            " [0.84032999 0.15967001]\n",
            " [0.5178555  0.4821445 ]\n",
            " [0.88742734 0.11257266]\n",
            " [0.48419817 0.51580183]\n",
            " [0.72319096 0.27680904]\n",
            " [0.4307682  0.5692318 ]\n",
            " [0.72319096 0.27680904]\n",
            " [0.42417596 0.57582404]\n",
            " [0.81743551 0.18256449]\n",
            " [0.6038714  0.3961286 ]\n",
            " [0.85426232 0.14573768]\n",
            " [0.5178555  0.4821445 ]\n",
            " [0.61029645 0.38970355]\n",
            " [0.75435253 0.24564747]\n",
            " [0.67214883 0.32785117]\n",
            " [0.497661   0.502339  ]\n",
            " [0.66618576 0.33381424]\n",
            " [0.21377962 0.78622038]\n",
            " [0.73907259 0.26092741]\n",
            " [0.62933546 0.37066454]\n",
            " [0.75930967 0.24069033]\n",
            " [0.92571397 0.07428603]\n",
            " [0.34776281 0.65223719]\n",
            " [0.89009031 0.10990969]\n",
            " [0.68970243 0.31029757]\n",
            " [0.53799184 0.46200816]\n",
            " [0.58438822 0.41561178]\n",
            " [0.8847082  0.1152918 ]\n",
            " [0.47075823 0.52924177]\n",
            " [0.78759939 0.21240061]\n",
            " [0.25222092 0.74777908]\n",
            " [0.64798082 0.35201918]\n",
            " [0.73907259 0.26092741]\n",
            " [0.75930967 0.24069033]\n",
            " [0.54467975 0.45532025]\n",
            " [0.82918709 0.17081291]\n",
            " [0.57783149 0.42216851]]\n",
            "Classes: [0 0 0 0 0 0 0 0 0 0 0 0 0 0 0 0 0 0 0 0 0 0 0 0 0 0 0 0 0 0 0 0 0 0 0 0 0\n",
            " 0 0 0 0 0 0 0 0 0 0 0 0 0 0 0 0 0 0 0 0 0 0 0 0 0 0 0 0 0 0 0 0 0 0 0 0 0\n",
            " 0 0 0 0 0 0 0 0 0 0 0 0 0 0 0 0 0 0 0 0 0 0 0 0 0 0 0 0 0 0 0 0 0 0 0 0 0\n",
            " 0 0 0 0 0 0 0 0 0 0 0 0 0 0 0 0 0 0 0 0 0 0 0 0 0 0 0 0 0 0 0 0 0 0 0 0 0\n",
            " 1 0 1 0 0 1 0 1 0 1 0 1 0 0 0 1 0 0 0 0 0 0 0 1 0 0 0 1 0 1 0 0 0 0 0 1 0\n",
            " 1 0 0 0 0 0 0 0 0 1 0 0 1 0 0 0 1 0 0 0 0 1 0 0 1 0 0 0 0 0 0 0 0 0 0 0 0\n",
            " 0 0 0 0 0 0 0 0 0 0 0 0 0 0 0 0 0 0 0 0 0 0 0 0 1 0 0 0 0 0 0 0 0 0 0 0 0\n",
            " 0 0 0 0 0 0 0 0 0 0 0 0 0 0 0 0 0 1 0 0 0 0 0 0 0 0 0 0 0 0 1 0 0 0 1 0 0\n",
            " 0 0 0 1 0 1 0 1 0 0 0 0 0 0 0 1 0 1 0 0 0 0 1 0 0 0 0 0 1 0 1 0 0 0 0 0 0]\n"
          ]
        }
      ],
      "id": "pxhGpVEW28Ty"
    },
    {
      "cell_type": "code",
      "source": [
        "# Classify the first 6 instance in X\n",
        "logisticModel.predict(X)[0:6]"
      ],
      "metadata": {
        "colab": {
          "base_uri": "https://localhost:8080/"
        },
        "outputId": "46f9d11d-1110-4322-cdee-d9393d499669",
        "id": "nEkBQSzS28Tz"
      },
      "execution_count": 30,
      "outputs": [
        {
          "output_type": "execute_result",
          "data": {
            "text/plain": [
              "array([0, 0, 0, 0, 0, 0])"
            ]
          },
          "metadata": {},
          "execution_count": 30
        }
      ],
      "id": "nEkBQSzS28Tz"
    },
    {
      "cell_type": "code",
      "source": [
        "# Calculate the proportion of instances correctly classified\n",
        "logisticModel.score(X, np.ravel(y))"
      ],
      "metadata": {
        "colab": {
          "base_uri": "https://localhost:8080/"
        },
        "outputId": "dbd5f256-e748-4dd4-f01b-752aa8133266",
        "id": "t8MvdRhA28T0"
      },
      "execution_count": 31,
      "outputs": [
        {
          "output_type": "execute_result",
          "data": {
            "text/plain": [
              "0.8108108108108109"
            ]
          },
          "metadata": {},
          "execution_count": 31
        }
      ],
      "id": "t8MvdRhA28T0"
    },
    {
      "cell_type": "code",
      "source": [
        "# Plot logistic regression model\n",
        "plt.scatter(X, y, color='black')\n",
        "\n",
        "xrange = np.linspace(X.min(), X.max(), 10000)\n",
        "yhat = logisticModel.predict(X).reshape(-1, 1).astype(int)\n",
        "yprob = logisticModel.predict_proba(xrange.reshape(-1, 1))[:, 1]\n",
        "\n",
        "plt.plot(xrange, yprob, color='#4878d0', linewidth=2)\n",
        "plt.xlabel('Bill length (mm)', fontsize=14)\n",
        "plt.ylabel('Probability of Chinstrap', fontsize=14)"
      ],
      "metadata": {
        "colab": {
          "base_uri": "https://localhost:8080/",
          "height": 506
        },
        "outputId": "08188414-61f1-4b54-eda7-823c1ff38868",
        "id": "8a4XHgfv28T0"
      },
      "execution_count": 32,
      "outputs": [
        {
          "output_type": "stream",
          "name": "stderr",
          "text": [
            "/usr/local/lib/python3.10/dist-packages/sklearn/base.py:493: UserWarning: X does not have valid feature names, but LogisticRegression was fitted with feature names\n",
            "  warnings.warn(\n"
          ]
        },
        {
          "output_type": "execute_result",
          "data": {
            "text/plain": [
              "Text(0, 0.5, 'Probability of Chinstrap')"
            ]
          },
          "metadata": {},
          "execution_count": 32
        },
        {
          "output_type": "display_data",
          "data": {
            "text/plain": [
              "<Figure size 640x480 with 1 Axes>"
            ],
            "image/png": "[encoded data removed]"
          },
          "metadata": {}
        }
      ],
      "id": "8a4XHgfv28T0"
    },
    {
      "cell_type": "code",
      "source": [
        "# Use two input features\n",
        "X = penguins[['bill_length_mm', 'bill_depth_mm']]\n",
        "y = penguins[['Chinstrap']]"
      ],
      "metadata": {
        "id": "Vp5oKHVSs2jT"
      },
      "id": "Vp5oKHVSs2jT",
      "execution_count": 33,
      "outputs": []
    },
    {
      "cell_type": "code",
      "source": [
        "# Initialize a logistic regression model\n",
        "logisticModel = LogisticRegression(penalty=None)\n",
        "\n",
        "# Fit the model\n",
        "logisticModel.fit(X, np.ravel(y))\n",
        "\n",
        "# Print the fitted model\n",
        "print('w1, w2:', logisticModel.coef_)\n",
        "print('w0:', logisticModel.intercept_)"
      ],
      "metadata": {
        "colab": {
          "base_uri": "https://localhost:8080/"
        },
        "id": "_6vDCA61s5ul",
        "outputId": "308abc45-f5c9-4f6c-b29c-32364682555d"
      },
      "id": "_6vDCA61s5ul",
      "execution_count": 34,
      "outputs": [
        {
          "output_type": "stream",
          "name": "stdout",
          "text": [
            "w1, w2: [[0.34985645 0.8025494 ]]\n",
            "w0: [-31.42822466]\n"
          ]
        }
      ]
    },
    {
      "cell_type": "code",
      "source": [
        "# Proportion of instances correctly classified\n",
        "logisticModel.score(X, y)"
      ],
      "metadata": {
        "colab": {
          "base_uri": "https://localhost:8080/"
        },
        "id": "RlwnKIxBs94N",
        "outputId": "7e06ef9c-b8c1-46a0-9181-c72e1c1a47ad"
      },
      "id": "RlwnKIxBs94N",
      "execution_count": 35,
      "outputs": [
        {
          "output_type": "execute_result",
          "data": {
            "text/plain": [
              "0.8798798798798799"
            ]
          },
          "metadata": {},
          "execution_count": 35
        }
      ]
    },
    {
      "cell_type": "code",
      "source": [
        "# Decision boundary plot with two input features\n",
        "# Set background opacity to 20%\n",
        "contourf_kwargs = {'alpha': 0.2}\n",
        "\n",
        "# Plot decision boundary regions\n",
        "p = plot_decision_regions(X.to_numpy(), np.ravel(y),\n",
        "                          clf=logisticModel, contourf_kwargs=contourf_kwargs,\n",
        "                          colors='#7f7f7f,#1f77b4')\n",
        "\n",
        "# Add title and axis labels\n",
        "p.set_title('Decision boundary plot', fontsize=16)\n",
        "p.set_xlabel('Bill length (mm)', fontsize=14)\n",
        "p.set_ylabel('Bill depth (mm)', fontsize=14)\n",
        "\n",
        "# Add legend\n",
        "L = plt.legend()\n",
        "L.get_texts()[0].set_text('Adelie or Gentoo')\n",
        "L.get_texts()[1].set_text('Chinstrap')"
      ],
      "metadata": {
        "colab": {
          "base_uri": "https://localhost:8080/",
          "height": 514
        },
        "id": "louGtJ86tCci",
        "outputId": "be9a9fb6-8245-472e-ccc1-4c5065382ee6"
      },
      "id": "louGtJ86tCci",
      "execution_count": 36,
      "outputs": [
        {
          "output_type": "stream",
          "name": "stderr",
          "text": [
            "/usr/local/lib/python3.10/dist-packages/sklearn/base.py:493: UserWarning: X does not have valid feature names, but LogisticRegression was fitted with feature names\n",
            "  warnings.warn(\n"
          ]
        },
        {
          "output_type": "display_data",
          "data": {
            "text/plain": [
              "<Figure size 640x480 with 1 Axes>"
            ],
            "image/png": "[encoded data removed]"
          },
          "metadata": {}
        }
      ]
    },
    {
      "cell_type": "code",
      "source": [
        "# Initialize a logistic regression model\n",
        "logisticModel = LogisticRegression(penalty='l2')\n",
        "\n",
        "# Fit the model\n",
        "logisticModel.fit(X, np.ravel(y))\n",
        "\n",
        "# Print the fitted model\n",
        "print('w1, w2:', logisticModel.coef_)\n",
        "print('w0:', logisticModel.intercept_)"
      ],
      "metadata": {
        "colab": {
          "base_uri": "https://localhost:8080/"
        },
        "outputId": "541cccc8-4dd5-48eb-b12c-6013ffb0dd3f",
        "id": "GC6Qz7FW3XEA"
      },
      "execution_count": 37,
      "outputs": [
        {
          "output_type": "stream",
          "name": "stdout",
          "text": [
            "w1, w2: [[0.34708881 0.79036638]]\n",
            "w0: [-31.08350466]\n"
          ]
        }
      ],
      "id": "GC6Qz7FW3XEA"
    },
    {
      "cell_type": "code",
      "source": [
        "# Proportion of instances correctly classified\n",
        "logisticModel.score(X, y)"
      ],
      "metadata": {
        "colab": {
          "base_uri": "https://localhost:8080/"
        },
        "outputId": "e9e3059e-24b1-4b98-84ae-ceb4205a03fe",
        "id": "ssmn3rKw3XED"
      },
      "execution_count": 38,
      "outputs": [
        {
          "output_type": "execute_result",
          "data": {
            "text/plain": [
              "0.8798798798798799"
            ]
          },
          "metadata": {},
          "execution_count": 38
        }
      ],
      "id": "ssmn3rKw3XED"
    },
    {
      "cell_type": "code",
      "source": [
        "# Decision boundary plot with two input features\n",
        "# Set background opacity to 20%\n",
        "contourf_kwargs = {'alpha': 0.2}\n",
        "\n",
        "# Plot decision boundary regions\n",
        "p = plot_decision_regions(X.to_numpy(), np.ravel(y),\n",
        "                          clf=logisticModel, contourf_kwargs=contourf_kwargs,\n",
        "                          colors='#7f7f7f,#1f77b4')\n",
        "\n",
        "# Add title and axis labels\n",
        "p.set_title('Decision boundary plot', fontsize=16)\n",
        "p.set_xlabel('Bill length (mm)', fontsize=14)\n",
        "p.set_ylabel('Bill depth (mm)', fontsize=14)\n",
        "\n",
        "# Add legend\n",
        "L = plt.legend()\n",
        "L.get_texts()[0].set_text('Adelie or Gentoo')\n",
        "L.get_texts()[1].set_text('Chinstrap')"
      ],
      "metadata": {
        "colab": {
          "base_uri": "https://localhost:8080/",
          "height": 514
        },
        "outputId": "015184bd-9294-4668-82d5-96b8df1fd7bc",
        "id": "MJ3SSoxU3XEE"
      },
      "execution_count": 39,
      "outputs": [
        {
          "output_type": "stream",
          "name": "stderr",
          "text": [
            "/usr/local/lib/python3.10/dist-packages/sklearn/base.py:493: UserWarning: X does not have valid feature names, but LogisticRegression was fitted with feature names\n",
            "  warnings.warn(\n"
          ]
        },
        {
          "output_type": "display_data",
          "data": {
            "text/plain": [
              "<Figure size 640x480 with 1 Axes>"
            ],
            "image/png": "[encoded data removed]"
          },
          "metadata": {}
        }
      ],
      "id": "MJ3SSoxU3XEE"
    },
    {
      "cell_type": "markdown",
      "source": [
        "3. The target species to Gentoo."
      ],
      "metadata": {
        "id": "YkX6aSF4io0X"
      },
      "id": "YkX6aSF4io0X"
    },
    {
      "cell_type": "code",
      "source": [
        "# Define the input feature \"bill_length_mm\" and the output feature \"Gentoo\"\n",
        "X = penguins[['bill_length_mm']]\n",
        "y = penguins[['Gentoo']]"
      ],
      "metadata": {
        "id": "psRVN6AXiuXS"
      },
      "id": "psRVN6AXiuXS",
      "execution_count": 40,
      "outputs": []
    },
    {
      "cell_type": "code",
      "source": [
        "# Initialize a logistic regression model, with penalty=None\n",
        "logisticModel = LogisticRegression(penalty=None)\n",
        "\n",
        "# Fit the model\n",
        "logisticModel.fit(X, np.ravel(y))\n",
        "\n",
        "# Print the intercept and weight of the fitted model\n",
        "print('w1: ', logisticModel.coef_)\n",
        "print('w0: ', logisticModel.intercept_)"
      ],
      "metadata": {
        "colab": {
          "base_uri": "https://localhost:8080/"
        },
        "id": "lI9L3tu9uA9G",
        "outputId": "81f2ba65-7ffe-4298-e7c4-fa3d043b88af"
      },
      "id": "lI9L3tu9uA9G",
      "execution_count": 41,
      "outputs": [
        {
          "output_type": "stream",
          "name": "stdout",
          "text": [
            "w1:  [[0.23229357]]\n",
            "w0:  [-11.0101527]\n"
          ]
        }
      ]
    },
    {
      "cell_type": "code",
      "source": [
        "# Calculate predicted probabilities from the fited model\n",
        "probs = logisticModel.predict_proba(X)\n",
        "\n",
        "print('Probabilities: {}'.format(probs))\n",
        "\n",
        "# Calculate the predicted classes from the fitted model\n",
        "classes = logisticModel.predict(X)\n",
        "\n",
        "print('Classes: {}'.format(classes))"
      ],
      "metadata": {
        "colab": {
          "base_uri": "https://localhost:8080/"
        },
        "id": "13ePks73uC9X",
        "outputId": "3dc679ec-b661-4300-ce78-1641215f8aaf"
      },
      "id": "13ePks73uC9X",
      "execution_count": 42,
      "outputs": [
        {
          "output_type": "stream",
          "name": "stdout",
          "text": [
            "Probabilities: [[0.87296959 0.12703041]\n",
            " [0.86230367 0.13769633]\n",
            " [0.83871824 0.16128176]\n",
            " [0.92308204 0.07691796]\n",
            " [0.86772772 0.13227228]\n",
            " [0.87803292 0.12196708]\n",
            " [0.8703712  0.1296288 ]\n",
            " [0.81197384 0.18802616]\n",
            " [0.88530146 0.11469854]\n",
            " [0.95132986 0.04867014]\n",
            " [0.92471524 0.07528476]\n",
            " [0.8829215  0.1170785 ]\n",
            " [0.7572527  0.2427473 ]\n",
            " [0.95343642 0.04656358]\n",
            " [0.58045672 0.41954328]\n",
            " [0.90286364 0.09713636]\n",
            " [0.9048819  0.0951181 ]\n",
            " [0.9352823  0.0647177 ]\n",
            " [0.89440412 0.10559588]\n",
            " [0.88049881 0.11950119]\n",
            " [0.94322398 0.05677602]\n",
            " [0.82906764 0.17093236]\n",
            " [0.83233446 0.16766554]\n",
            " [0.90080726 0.09919274]\n",
            " [0.83233446 0.16766554]\n",
            " [0.86230367 0.13769633]\n",
            " [0.9144195  0.0855805 ]\n",
            " [0.86230367 0.13769633]\n",
            " [0.81896423 0.18103577]\n",
            " [0.92788641 0.07211359]\n",
            " [0.8703712  0.1296288 ]\n",
            " [0.88049881 0.11950119]\n",
            " [0.76983223 0.23016777]\n",
            " [0.90686255 0.09313745]\n",
            " [0.85381838 0.14618162]\n",
            " [0.92631653 0.07368347]\n",
            " [0.82238277 0.17761723]\n",
            " [0.93386194 0.06613806]\n",
            " [0.68265635 0.31734365]\n",
            " [0.91798589 0.08201411]\n",
            " [0.85952223 0.14047777]\n",
            " [0.81197384 0.18802616]\n",
            " [0.93386194 0.06613806]\n",
            " [0.76569043 0.23430957]\n",
            " [0.85952223 0.14047777]\n",
            " [0.84490425 0.15509575]\n",
            " [0.94684271 0.05315729]\n",
            " [0.77796091 0.22203909]\n",
            " [0.95239421 0.04760579]\n",
            " [0.80110245 0.19889755]\n",
            " [0.87552334 0.12447666]\n",
            " [0.82906764 0.17093236]\n",
            " [0.92631653 0.07368347]\n",
            " [0.90686255 0.09313745]\n",
            " [0.93803818 0.06196182]\n",
            " [0.80477788 0.19522212]\n",
            " [0.90686255 0.09313745]\n",
            " [0.81197384 0.18802616]\n",
            " [0.92788641 0.07211359]\n",
            " [0.79359619 0.20640381]\n",
            " [0.94068416 0.05931584]\n",
            " [0.81197384 0.18802616]\n",
            " [0.9352823  0.0647177 ]\n",
            " [0.78588236 0.21411764]\n",
            " [0.96188614 0.03811386]\n",
            " [0.85669393 0.14330607]\n",
            " [0.85952223 0.14047777]\n",
            " [0.59172651 0.40827349]\n",
            " [0.94068416 0.05931584]\n",
            " [0.7442141  0.2557859 ]\n",
            " [0.81896423 0.18103577]\n",
            " [0.9144195  0.0855805 ]\n",
            " [0.93093398 0.06906602]\n",
            " [0.77392243 0.22607757]\n",
            " [0.95132986 0.04867014]\n",
            " [0.73976714 0.26023286]\n",
            " [0.92308204 0.07691796]\n",
            " [0.94566133 0.05433867]\n",
            " [0.91258406 0.08741594]\n",
            " [0.80477788 0.19522212]\n",
            " [0.9294254  0.0705746 ]\n",
            " [0.91971788 0.08028212]\n",
            " [0.89219003 0.10780997]\n",
            " [0.87803292 0.12196708]\n",
            " [0.93803818 0.06196182]\n",
            " [0.81197384 0.18802616]\n",
            " [0.95739202 0.04260798]\n",
            " [0.85952223 0.14047777]\n",
            " [0.93093398 0.06906602]\n",
            " [0.82238277 0.17761723]\n",
            " [0.89657801 0.10342199]\n",
            " [0.83871824 0.16128176]\n",
            " [0.96515017 0.03484983]\n",
            " [0.72612901 0.27387099]\n",
            " [0.94684271 0.05315729]\n",
            " [0.81549465 0.18450535]\n",
            " [0.9048819  0.0951181 ]\n",
            " [0.90286364 0.09713636]\n",
            " [0.90080726 0.09919274]\n",
            " [0.85669393 0.14330607]\n",
            " [0.88530146 0.11469854]\n",
            " [0.89440412 0.10559588]\n",
            " [0.89657801 0.10342199]\n",
            " [0.72612901 0.27387099]\n",
            " [0.89657801 0.10342199]\n",
            " [0.60290067 0.39709933]\n",
            " [0.85669393 0.14330607]\n",
            " [0.76983223 0.23016777]\n",
            " [0.85952223 0.14047777]\n",
            " [0.74861088 0.25138912]\n",
            " [0.88530146 0.11469854]\n",
            " [0.91258406 0.08741594]\n",
            " [0.93803818 0.06196182]\n",
            " [0.81197384 0.18802616]\n",
            " [0.93093398 0.06906602]\n",
            " [0.9048819  0.0951181 ]\n",
            " [0.8418358  0.1581642 ]\n",
            " [0.80110245 0.19889755]\n",
            " [0.94445524 0.05554476]\n",
            " [0.82906764 0.17093236]\n",
            " [0.88049881 0.11950119]\n",
            " [0.79737524 0.20262476]\n",
            " [0.87552334 0.12447666]\n",
            " [0.68265635 0.31734365]\n",
            " [0.88763921 0.11236079]\n",
            " [0.73072419 0.26927581]\n",
            " [0.92141643 0.07858357]\n",
            " [0.90880611 0.09119389]\n",
            " [0.89657801 0.10342199]\n",
            " [0.81197384 0.18802616]\n",
            " [0.93937467 0.06062533]\n",
            " [0.8418358  0.1581642 ]\n",
            " [0.91798589 0.08201411]\n",
            " [0.85669393 0.14330607]\n",
            " [0.8418358  0.1581642 ]\n",
            " [0.82906764 0.17093236]\n",
            " [0.97217306 0.02782694]\n",
            " [0.8257505  0.1742495 ]\n",
            " [0.91258406 0.08741594]\n",
            " [0.87552334 0.12447666]\n",
            " [0.8703712  0.1296288 ]\n",
            " [0.92471524 0.07528476]\n",
            " [0.93386194 0.06613806]\n",
            " [0.90286364 0.09713636]\n",
            " [0.93386194 0.06613806]\n",
            " [0.79737524 0.20262476]\n",
            " [0.55193742 0.44806258]\n",
            " [0.35330897 0.64669103]\n",
            " [0.28771507 0.71228493]\n",
            " [0.61396851 0.38603149]\n",
            " [0.22588082 0.77411918]\n",
            " [0.62491979 0.37508021]\n",
            " [0.57478942 0.42521058]\n",
            " [0.28771507 0.71228493]\n",
            " [0.58045672 0.41954328]\n",
            " [0.28771507 0.71228493]\n",
            " [0.54618607 0.45381393]\n",
            " [0.26905453 0.73094547]\n",
            " [0.52307235 0.47692765]\n",
            " [0.25557183 0.74442817]\n",
            " [0.58610289 0.41389711]\n",
            " [0.32724491 0.67275509]\n",
            " [0.33755395 0.66244605]\n",
            " [0.07850216 0.92149784]\n",
            " [0.55767492 0.44232508]\n",
            " [0.39683006 0.60316994]\n",
            " [0.76149719 0.23850281]\n",
            " [0.43632626 0.56367374]\n",
            " [0.72612901 0.27387099]\n",
            " [0.32215151 0.67784849]\n",
            " [0.54042235 0.45957765]\n",
            " [0.25557183 0.74442817]\n",
            " [0.32724491 0.67275509]\n",
            " [0.38027553 0.61972447]\n",
            " [0.55767492 0.44232508]\n",
            " [0.22184484 0.77815516]\n",
            " [0.81896423 0.18103577]\n",
            " [0.17077301 0.82922699]\n",
            " [0.7572527  0.2427473 ]\n",
            " [0.3022051  0.6977949 ]\n",
            " [0.36938929 0.63061071]\n",
            " [0.49405233 0.50594767]\n",
            " [0.48824688 0.51175312]\n",
            " [0.25557183 0.74442817]\n",
            " [0.52886396 0.47113604]\n",
            " [0.19504545 0.80495455]\n",
            " [0.40800177 0.59199823]\n",
            " [0.56910239 0.43089761]\n",
            " [0.30712603 0.69287397]\n",
            " [0.60844853 0.39155147]\n",
            " [0.30712603 0.69287397]\n",
            " [0.31209125 0.68790875]\n",
            " [0.34801974 0.65198026]\n",
            " [0.40800177 0.59199823]\n",
            " [0.27828871 0.72171129]\n",
            " [0.36399484 0.63600516]\n",
            " [0.45929828 0.54070172]\n",
            " [0.28297813 0.71702187]\n",
            " [0.59732622 0.40267378]\n",
            " [0.31710001 0.68289999]\n",
            " [0.7572527  0.2427473 ]\n",
            " [0.24683364 0.75316636]\n",
            " [0.62491979 0.37508021]\n",
            " [0.39128352 0.60871648]\n",
            " [0.34276773 0.65723227]\n",
            " [0.60290067 0.39709933]\n",
            " [0.26001637 0.73998363]\n",
            " [0.53464781 0.46535219]\n",
            " [0.59732622 0.40267378]\n",
            " [0.12435413 0.87564587]\n",
            " [0.71205435 0.28794565]\n",
            " [0.37481658 0.62518342]\n",
            " [0.31209125 0.68790875]\n",
            " [0.34276773 0.65723227]\n",
            " [0.57478942 0.42521058]\n",
            " [0.35330897 0.64669103]\n",
            " [0.42493568 0.57506432]\n",
            " [0.35330897 0.64669103]\n",
            " [0.48824688 0.51175312]\n",
            " [0.55193742 0.44806258]\n",
            " [0.61396851 0.38603149]\n",
            " [0.54042235 0.45957765]\n",
            " [0.72148531 0.27851469]\n",
            " [0.53464781 0.46535219]\n",
            " [0.81896423 0.18103577]\n",
            " [0.40800177 0.59199823]\n",
            " [0.60844853 0.39155147]\n",
            " [0.44204762 0.55795238]\n",
            " [0.59172651 0.40827349]\n",
            " [0.39128352 0.60871648]\n",
            " [0.77796091 0.22203909]\n",
            " [0.39683006 0.60316994]\n",
            " [0.56910239 0.43089761]\n",
            " [0.42493568 0.57506432]\n",
            " [0.34276773 0.65723227]\n",
            " [0.63034864 0.36965136]\n",
            " [0.55193742 0.44806258]\n",
            " [0.56339707 0.43660293]\n",
            " [0.73976714 0.26023286]\n",
            " [0.57478942 0.42521058]\n",
            " [0.47664704 0.52335296]\n",
            " [0.45353513 0.54646487]\n",
            " [0.35330897 0.64669103]\n",
            " [0.50566649 0.49433351]\n",
            " [0.7442141  0.2557859 ]\n",
            " [0.63034864 0.36965136]\n",
            " [0.05548578 0.94451422]\n",
            " [0.40240325 0.59759675]\n",
            " [0.44204762 0.55795238]\n",
            " [0.75295718 0.24704282]\n",
            " [0.66737098 0.33262902]\n",
            " [0.6876672  0.3123328 ]\n",
            " [0.42493568 0.57506432]\n",
            " [0.74861088 0.25138912]\n",
            " [0.37481658 0.62518342]\n",
            " [0.61945935 0.38054065]\n",
            " [0.37481658 0.62518342]\n",
            " [0.32724491 0.67275509]\n",
            " [0.7072682  0.2927318 ]\n",
            " [0.60844853 0.39155147]\n",
            " [0.32724491 0.67275509]\n",
            " [0.64110686 0.35889314]\n",
            " [0.62491979 0.37508021]\n",
            " [0.54618607 0.45381393]\n",
            " [0.43632626 0.56367374]\n",
            " [0.63034864 0.36965136]\n",
            " [0.34801974 0.65198026]\n",
            " [0.55193742 0.44806258]\n",
            " [0.63574471 0.36425529]\n",
            " [0.69755764 0.30244236]\n",
            " [0.60844853 0.39155147]\n",
            " [0.72612901 0.27387099]\n",
            " [0.33237936 0.66762064]\n",
            " [0.61945935 0.38054065]\n",
            " [0.56910239 0.43089761]\n",
            " [0.59732622 0.40267378]\n",
            " [0.16750862 0.83249138]\n",
            " [0.59172651 0.40827349]\n",
            " [0.36399484 0.63600516]\n",
            " [0.38027553 0.61972447]\n",
            " [0.71205435 0.28794565]\n",
            " [0.31710001 0.68289999]\n",
            " [0.48244459 0.51755541]\n",
            " [0.55767492 0.44232508]\n",
            " [0.45353513 0.54646487]\n",
            " [0.55193742 0.44806258]\n",
            " [0.55767492 0.44232508]\n",
            " [0.43062179 0.56937821]\n",
            " [0.49405233 0.50594767]\n",
            " [0.29732918 0.70267082]\n",
            " [0.62491979 0.37508021]\n",
            " [0.62491979 0.37508021]\n",
            " [0.40240325 0.59759675]\n",
            " [0.23410782 0.76589218]\n",
            " [0.49985939 0.50014061]\n",
            " [0.35330897 0.64669103]\n",
            " [0.64110686 0.35889314]\n",
            " [0.31209125 0.68790875]\n",
            " [0.71679357 0.28320643]\n",
            " [0.28771507 0.71228493]\n",
            " [0.49405233 0.50594767]\n",
            " [0.25117748 0.74882252]\n",
            " [0.49405233 0.50594767]\n",
            " [0.24683364 0.75316636]\n",
            " [0.60844853 0.39155147]\n",
            " [0.38027553 0.61972447]\n",
            " [0.66219447 0.33780553]\n",
            " [0.31209125 0.68790875]\n",
            " [0.38576492 0.61423508]\n",
            " [0.52886396 0.47113604]\n",
            " [0.44204762 0.55795238]\n",
            " [0.29732918 0.70267082]\n",
            " [0.43632626 0.56367374]\n",
            " [0.12184667 0.87815333]\n",
            " [0.51147206 0.48852794]\n",
            " [0.40240325 0.59759675]\n",
            " [0.53464781 0.46535219]\n",
            " [0.78976524 0.21023476]\n",
            " [0.19871838 0.80128162]\n",
            " [0.72148531 0.27851469]\n",
            " [0.45929828 0.54070172]\n",
            " [0.32724491 0.67275509]\n",
            " [0.36399484 0.63600516]\n",
            " [0.71205435 0.28794565]\n",
            " [0.27828871 0.72171129]\n",
            " [0.56910239 0.43089761]\n",
            " [0.14316802 0.85683198]\n",
            " [0.41926937 0.58073063]\n",
            " [0.51147206 0.48852794]\n",
            " [0.53464781 0.46535219]\n",
            " [0.33237936 0.66762064]\n",
            " [0.62491979 0.37508021]\n",
            " [0.35863436 0.64136564]]\n",
            "Classes: [0 0 0 0 0 0 0 0 0 0 0 0 0 0 0 0 0 0 0 0 0 0 0 0 0 0 0 0 0 0 0 0 0 0 0 0 0\n",
            " 0 0 0 0 0 0 0 0 0 0 0 0 0 0 0 0 0 0 0 0 0 0 0 0 0 0 0 0 0 0 0 0 0 0 0 0 0\n",
            " 0 0 0 0 0 0 0 0 0 0 0 0 0 0 0 0 0 0 0 0 0 0 0 0 0 0 0 0 0 0 0 0 0 0 0 0 0\n",
            " 0 0 0 0 0 0 0 0 0 0 0 0 0 0 0 0 0 0 0 0 0 0 0 0 0 0 0 0 0 0 0 0 0 0 0 0 1\n",
            " 1 0 1 0 0 1 0 1 0 1 0 1 0 1 1 1 0 1 0 1 0 1 0 1 1 1 0 1 0 1 0 1 1 1 1 1 0\n",
            " 1 1 0 1 0 1 1 1 1 1 1 1 1 0 1 0 1 0 1 1 0 1 0 0 1 0 1 1 1 0 1 1 1 1 0 0 0\n",
            " 0 0 0 1 0 1 0 1 0 1 0 1 1 0 0 0 0 0 1 1 1 0 0 0 1 1 1 0 0 0 1 0 1 0 1 1 0\n",
            " 0 1 0 0 0 1 0 1 0 0 0 0 0 1 0 0 0 1 0 1 1 0 1 1 0 1 0 0 1 1 1 0 0 1 1 1 1\n",
            " 0 1 0 1 1 1 1 1 0 1 0 1 1 0 1 1 1 1 0 1 0 0 1 0 1 1 1 0 1 0 1 1 0 0 1 0 1]\n"
          ]
        }
      ]
    },
    {
      "cell_type": "code",
      "source": [
        "# Classify the first 6 instance in X\n",
        "logisticModel.predict(X)[0:6]"
      ],
      "metadata": {
        "colab": {
          "base_uri": "https://localhost:8080/"
        },
        "id": "gTWg1r-DuFOn",
        "outputId": "6081445c-8a5a-4554-a91a-b1ca04b42384"
      },
      "id": "gTWg1r-DuFOn",
      "execution_count": 43,
      "outputs": [
        {
          "output_type": "execute_result",
          "data": {
            "text/plain": [
              "array([0, 0, 0, 0, 0, 0])"
            ]
          },
          "metadata": {},
          "execution_count": 43
        }
      ]
    },
    {
      "cell_type": "code",
      "source": [
        "# Calculate the proportion of instances correctly classified\n",
        "logisticModel.score(X, np.ravel(y))"
      ],
      "metadata": {
        "colab": {
          "base_uri": "https://localhost:8080/"
        },
        "id": "RZxD0vQkuJeh",
        "outputId": "1c155ec7-9f11-42e5-cdd1-9bb54be5e128"
      },
      "id": "RZxD0vQkuJeh",
      "execution_count": 44,
      "outputs": [
        {
          "output_type": "execute_result",
          "data": {
            "text/plain": [
              "0.6936936936936937"
            ]
          },
          "metadata": {},
          "execution_count": 44
        }
      ]
    },
    {
      "cell_type": "code",
      "source": [
        "# Plot logistic regression model\n",
        "plt.scatter(X, y, color='black')\n",
        "\n",
        "xrange = np.linspace(X.min(), X.max(), 10000)\n",
        "yhat = logisticModel.predict(X).reshape(-1, 1).astype(int)\n",
        "yprob = logisticModel.predict_proba(xrange.reshape(-1, 1))[:, 1]\n",
        "\n",
        "plt.plot(xrange, yprob, color='#4878d0', linewidth=2)\n",
        "plt.xlabel('Bill length (mm)', fontsize=14)\n",
        "plt.ylabel('Probability of Gentoo', fontsize=14)"
      ],
      "metadata": {
        "colab": {
          "base_uri": "https://localhost:8080/",
          "height": 506
        },
        "id": "6lsq3BNBuLqA",
        "outputId": "82df6fad-688d-4441-8bc2-e59a7148535e"
      },
      "id": "6lsq3BNBuLqA",
      "execution_count": 45,
      "outputs": [
        {
          "output_type": "stream",
          "name": "stderr",
          "text": [
            "/usr/local/lib/python3.10/dist-packages/sklearn/base.py:493: UserWarning: X does not have valid feature names, but LogisticRegression was fitted with feature names\n",
            "  warnings.warn(\n"
          ]
        },
        {
          "output_type": "execute_result",
          "data": {
            "text/plain": [
              "Text(0, 0.5, 'Probability of Gentoo')"
            ]
          },
          "metadata": {},
          "execution_count": 45
        },
        {
          "output_type": "display_data",
          "data": {
            "text/plain": [
              "<Figure size 640x480 with 1 Axes>"
            ],
            "image/png": "[encoded data removed]"
          },
          "metadata": {}
        }
      ]
    },
    {
      "cell_type": "code",
      "source": [
        "# Initialize a logistic regression model, with penalty=None\n",
        "logisticModel = LogisticRegression(penalty='l2')\n",
        "\n",
        "# Fit the model\n",
        "logisticModel.fit(X, np.ravel(y))\n",
        "\n",
        "# Print the intercept and weight of the fitted model\n",
        "print('w1: ', logisticModel.coef_)\n",
        "print('w0: ', logisticModel.intercept_)"
      ],
      "metadata": {
        "colab": {
          "base_uri": "https://localhost:8080/"
        },
        "outputId": "144c79fa-81d8-449e-8101-065a97b3c413",
        "id": "ZqC5nNAK5ZX5"
      },
      "execution_count": 46,
      "outputs": [
        {
          "output_type": "stream",
          "name": "stdout",
          "text": [
            "w1:  [[0.23209661]]\n",
            "w0:  [-11.00116766]\n"
          ]
        }
      ],
      "id": "ZqC5nNAK5ZX5"
    },
    {
      "cell_type": "code",
      "source": [
        "# Calculate predicted probabilities from the fited model\n",
        "probs = logisticModel.predict_proba(X)\n",
        "\n",
        "print('Probabilities: {}'.format(probs))\n",
        "\n",
        "# Calculate the predicted classes from the fitted model\n",
        "classes = logisticModel.predict(X)\n",
        "\n",
        "print('Classes: {}'.format(classes))"
      ],
      "metadata": {
        "colab": {
          "base_uri": "https://localhost:8080/"
        },
        "outputId": "80ba5b72-a171-40a0-9346-ab7db2a78d13",
        "id": "UwnWo7qe5ZX7"
      },
      "execution_count": 47,
      "outputs": [
        {
          "output_type": "stream",
          "name": "stdout",
          "text": [
            "Probabilities: [[0.87282714 0.12717286]\n",
            " [0.86216052 0.13783948]\n",
            " [0.83857648 0.16142352]\n",
            " [0.92295723 0.07704277]\n",
            " [0.86758481 0.13241519]\n",
            " [0.87789113 0.12210887]\n",
            " [0.8702285  0.1297715 ]\n",
            " [0.81183793 0.18816207]\n",
            " [0.88516102 0.11483898]\n",
            " [0.95122928 0.04877072]\n",
            " [0.92459148 0.07540852]\n",
            " [0.88278056 0.11721944]\n",
            " [0.75713977 0.24286023]\n",
            " [0.95333822 0.04666178]\n",
            " [0.58047501 0.41952499]\n",
            " [0.9027285  0.0972715 ]\n",
            " [0.90474757 0.09525243]\n",
            " [0.93516633 0.06483367]\n",
            " [0.89426604 0.10573396]\n",
            " [0.88035743 0.11964257]\n",
            " [0.94311504 0.05688496]\n",
            " [0.82892751 0.17107249]\n",
            " [0.83219372 0.16780628]\n",
            " [0.90067133 0.09932867]\n",
            " [0.83219372 0.16780628]\n",
            " [0.86216052 0.13783948]\n",
            " [0.91428965 0.08571035]\n",
            " [0.86216052 0.13783948]\n",
            " [0.81882639 0.18117361]\n",
            " [0.92776482 0.07223518]\n",
            " [0.8702285  0.1297715 ]\n",
            " [0.88035743 0.11964257]\n",
            " [0.76971289 0.23028711]\n",
            " [0.90672907 0.09327093]\n",
            " [0.85367528 0.14632472]\n",
            " [0.92619385 0.07380615]\n",
            " [0.8222441  0.1777559 ]\n",
            " [0.93374483 0.06625517]\n",
            " [0.68259155 0.31740845]\n",
            " [0.91785799 0.08214201]\n",
            " [0.85937903 0.14062097]\n",
            " [0.81183793 0.18816207]\n",
            " [0.93374483 0.06625517]\n",
            " [0.76557314 0.23442686]\n",
            " [0.85937903 0.14062097]\n",
            " [0.84476176 0.15523824]\n",
            " [0.94673735 0.05326265]\n",
            " [0.77783777 0.22216223]\n",
            " [0.95229482 0.04770518]\n",
            " [0.80097002 0.19902998]\n",
            " [0.87538119 0.12461881]\n",
            " [0.82892751 0.17107249]\n",
            " [0.92619385 0.07380615]\n",
            " [0.90672907 0.09327093]\n",
            " [0.93792454 0.06207546]\n",
            " [0.80464421 0.19535579]\n",
            " [0.90672907 0.09327093]\n",
            " [0.81183793 0.18816207]\n",
            " [0.92776482 0.07223518]\n",
            " [0.79346651 0.20653349]\n",
            " [0.94057286 0.05942714]\n",
            " [0.81183793 0.18816207]\n",
            " [0.93516633 0.06483367]\n",
            " [0.78575577 0.21424423]\n",
            " [0.96179854 0.03820146]\n",
            " [0.85655075 0.14344925]\n",
            " [0.85937903 0.14062097]\n",
            " [0.59173513 0.40826487]\n",
            " [0.94057286 0.05942714]\n",
            " [0.7441084  0.2558916 ]\n",
            " [0.81882639 0.18117361]\n",
            " [0.91428965 0.08571035]\n",
            " [0.93081461 0.06918539]\n",
            " [0.77380115 0.22619885]\n",
            " [0.95122928 0.04877072]\n",
            " [0.73966404 0.26033596]\n",
            " [0.92295723 0.07704277]\n",
            " [0.94555478 0.05444522]\n",
            " [0.91245327 0.08754673]\n",
            " [0.80464421 0.19535579]\n",
            " [0.92930491 0.07069509]\n",
            " [0.91959099 0.08040901]\n",
            " [0.8920513  0.1079487 ]\n",
            " [0.87789113 0.12210887]\n",
            " [0.93792454 0.06207546]\n",
            " [0.81183793 0.18816207]\n",
            " [0.95729857 0.04270143]\n",
            " [0.85937903 0.14062097]\n",
            " [0.93081461 0.06918539]\n",
            " [0.8222441  0.1777559 ]\n",
            " [0.89644062 0.10355938]\n",
            " [0.83857648 0.16142352]\n",
            " [0.96506715 0.03493285]\n",
            " [0.72603426 0.27396574]\n",
            " [0.94673735 0.05326265]\n",
            " [0.81535773 0.18464227]\n",
            " [0.90474757 0.09525243]\n",
            " [0.9027285  0.0972715 ]\n",
            " [0.90067133 0.09932867]\n",
            " [0.85655075 0.14344925]\n",
            " [0.88516102 0.11483898]\n",
            " [0.89426604 0.10573396]\n",
            " [0.89644062 0.10355938]\n",
            " [0.72603426 0.27396574]\n",
            " [0.89644062 0.10355938]\n",
            " [0.60289978 0.39710022]\n",
            " [0.85655075 0.14344925]\n",
            " [0.76971289 0.23028711]\n",
            " [0.85937903 0.14062097]\n",
            " [0.74850268 0.25149732]\n",
            " [0.88516102 0.11483898]\n",
            " [0.91245327 0.08754673]\n",
            " [0.93792454 0.06207546]\n",
            " [0.81183793 0.18816207]\n",
            " [0.93081461 0.06918539]\n",
            " [0.90474757 0.09525243]\n",
            " [0.84169364 0.15830636]\n",
            " [0.80097002 0.19902998]\n",
            " [0.94434749 0.05565251]\n",
            " [0.82892751 0.17107249]\n",
            " [0.88035743 0.11964257]\n",
            " [0.79724415 0.20275585]\n",
            " [0.87538119 0.12461881]\n",
            " [0.68259155 0.31740845]\n",
            " [0.88749929 0.11250071]\n",
            " [0.73062656 0.26937344]\n",
            " [0.92129057 0.07870943]\n",
            " [0.9086735  0.0913265 ]\n",
            " [0.89644062 0.10355938]\n",
            " [0.81183793 0.18816207]\n",
            " [0.9392622  0.0607378 ]\n",
            " [0.84169364 0.15830636]\n",
            " [0.91785799 0.08214201]\n",
            " [0.85655075 0.14344925]\n",
            " [0.84169364 0.15830636]\n",
            " [0.82892751 0.17107249]\n",
            " [0.97210094 0.02789906]\n",
            " [0.82561106 0.17438894]\n",
            " [0.91245327 0.08754673]\n",
            " [0.87538119 0.12461881]\n",
            " [0.8702285  0.1297715 ]\n",
            " [0.92459148 0.07540852]\n",
            " [0.93374483 0.06625517]\n",
            " [0.9027285  0.0972715 ]\n",
            " [0.93374483 0.06625517]\n",
            " [0.79724415 0.20275585]\n",
            " [0.55198035 0.44801965]\n",
            " [0.35350615 0.64649385]\n",
            " [0.28794444 0.71205556]\n",
            " [0.6139583  0.3860417 ]\n",
            " [0.22612479 0.77387521]\n",
            " [0.62490046 0.37509954]\n",
            " [0.57481258 0.42518742]\n",
            " [0.28794444 0.71205556]\n",
            " [0.58047501 0.41952499]\n",
            " [0.28794444 0.71205556]\n",
            " [0.54623397 0.45376603]\n",
            " [0.26929015 0.73070985]\n",
            " [0.52314022 0.47685978]\n",
            " [0.25581103 0.74418897]\n",
            " [0.58611632 0.41388368]\n",
            " [0.32745661 0.67254339]\n",
            " [0.33776015 0.66223985]\n",
            " [0.07867875 0.92132125]\n",
            " [0.55771288 0.44228712]\n",
            " [0.3969989  0.6030011 ]\n",
            " [0.76138203 0.23861797]\n",
            " [0.43646583 0.56353417]\n",
            " [0.72603426 0.27396574]\n",
            " [0.32236579 0.67763421]\n",
            " [0.54047525 0.45952475]\n",
            " [0.25581103 0.74418897]\n",
            " [0.32745661 0.67254339]\n",
            " [0.3804557  0.6195443 ]\n",
            " [0.55771288 0.44228712]\n",
            " [0.22208911 0.77791089]\n",
            " [0.81882639 0.18117361]\n",
            " [0.17101248 0.82898752]\n",
            " [0.75713977 0.24286023]\n",
            " [0.30242866 0.69757134]\n",
            " [0.36957656 0.63042344]\n",
            " [0.49414495 0.50585505]\n",
            " [0.48834438 0.51165562]\n",
            " [0.25581103 0.74418897]\n",
            " [0.52892684 0.47107316]\n",
            " [0.19528928 0.80471072]\n",
            " [0.40816263 0.59183737]\n",
            " [0.56913046 0.43086954]\n",
            " [0.30734743 0.69265257]\n",
            " [0.60844296 0.39155704]\n",
            " [0.30734743 0.69265257]\n",
            " [0.31231039 0.68768961]\n",
            " [0.34822004 0.65177996]\n",
            " [0.40816263 0.59183737]\n",
            " [0.27852142 0.72147858]\n",
            " [0.36418551 0.63581449]\n",
            " [0.45941965 0.54058035]\n",
            " [0.28320923 0.71679077]\n",
            " [0.59733007 0.40266993]\n",
            " [0.31731677 0.68268323]\n",
            " [0.75713977 0.24286023]\n",
            " [0.2470747  0.7529253 ]\n",
            " [0.62490046 0.37509954]\n",
            " [0.39145622 0.60854378]\n",
            " [0.34297104 0.65702896]\n",
            " [0.60289978 0.39710022]\n",
            " [0.26025447 0.73974553]\n",
            " [0.53470569 0.46529431]\n",
            " [0.59733007 0.40266993]\n",
            " [0.12457265 0.87542735]\n",
            " [0.71196878 0.28803122]\n",
            " [0.37500035 0.62499965]\n",
            " [0.31231039 0.68768961]\n",
            " [0.34297104 0.65702896]\n",
            " [0.57481258 0.42518742]\n",
            " [0.35350615 0.64649385]\n",
            " [0.42508399 0.57491601]\n",
            " [0.35350615 0.64649385]\n",
            " [0.48834438 0.51165562]\n",
            " [0.55198035 0.44801965]\n",
            " [0.6139583  0.3860417 ]\n",
            " [0.54047525 0.45952475]\n",
            " [0.72139353 0.27860647]\n",
            " [0.53470569 0.46529431]\n",
            " [0.81882639 0.18117361]\n",
            " [0.40816263 0.59183737]\n",
            " [0.60844296 0.39155704]\n",
            " [0.44218273 0.55781727]\n",
            " [0.59173513 0.40826487]\n",
            " [0.39145622 0.60854378]\n",
            " [0.77783777 0.22216223]\n",
            " [0.3969989  0.6030011 ]\n",
            " [0.56913046 0.43086954]\n",
            " [0.42508399 0.57491601]\n",
            " [0.34297104 0.65702896]\n",
            " [0.63032483 0.36967517]\n",
            " [0.55198035 0.44801965]\n",
            " [0.56343007 0.43656993]\n",
            " [0.73966404 0.26033596]\n",
            " [0.57481258 0.42518742]\n",
            " [0.47675421 0.52324579]\n",
            " [0.45366114 0.54633886]\n",
            " [0.35350615 0.64649385]\n",
            " [0.50574926 0.49425074]\n",
            " [0.7441084  0.2558916 ]\n",
            " [0.63032483 0.36967517]\n",
            " [0.05563027 0.94436973]\n",
            " [0.40256815 0.59743185]\n",
            " [0.44218273 0.55781727]\n",
            " [0.75284657 0.24715343]\n",
            " [0.66731769 0.33268231]\n",
            " [0.68759871 0.31240129]\n",
            " [0.42508399 0.57491601]\n",
            " [0.74850268 0.25149732]\n",
            " [0.37500035 0.62499965]\n",
            " [0.61944455 0.38055545]\n",
            " [0.37500035 0.62499965]\n",
            " [0.32745661 0.67254339]\n",
            " [0.70718587 0.29281413]\n",
            " [0.60844296 0.39155704]\n",
            " [0.32745661 0.67254339]\n",
            " [0.64107429 0.35892571]\n",
            " [0.62490046 0.37509954]\n",
            " [0.54623397 0.45376603]\n",
            " [0.43646583 0.56353417]\n",
            " [0.63032483 0.36967517]\n",
            " [0.34822004 0.65177996]\n",
            " [0.55198035 0.44801965]\n",
            " [0.63571649 0.36428351]\n",
            " [0.69748206 0.30251794]\n",
            " [0.60844296 0.39155704]\n",
            " [0.72603426 0.27396574]\n",
            " [0.33258836 0.66741164]\n",
            " [0.61944455 0.38055545]\n",
            " [0.56913046 0.43086954]\n",
            " [0.59733007 0.40266993]\n",
            " [0.16774719 0.83225281]\n",
            " [0.59173513 0.40826487]\n",
            " [0.36418551 0.63581449]\n",
            " [0.3804557  0.6195443 ]\n",
            " [0.71196878 0.28803122]\n",
            " [0.31731677 0.68268323]\n",
            " [0.48254695 0.51745305]\n",
            " [0.55771288 0.44228712]\n",
            " [0.45366114 0.54633886]\n",
            " [0.55198035 0.44801965]\n",
            " [0.55771288 0.44228712]\n",
            " [0.43076577 0.56923423]\n",
            " [0.49414495 0.50585505]\n",
            " [0.29755478 0.70244522]\n",
            " [0.62490046 0.37509954]\n",
            " [0.62490046 0.37509954]\n",
            " [0.40256815 0.59743185]\n",
            " [0.23435092 0.76564908]\n",
            " [0.4999471  0.5000529 ]\n",
            " [0.35350615 0.64649385]\n",
            " [0.64107429 0.35892571]\n",
            " [0.31231039 0.68768961]\n",
            " [0.71670485 0.28329515]\n",
            " [0.28794444 0.71205556]\n",
            " [0.49414495 0.50585505]\n",
            " [0.25141766 0.74858234]\n",
            " [0.49414495 0.50585505]\n",
            " [0.2470747  0.7529253 ]\n",
            " [0.60844296 0.39155704]\n",
            " [0.3804557  0.6195443 ]\n",
            " [0.66214518 0.33785482]\n",
            " [0.31231039 0.68768961]\n",
            " [0.3859414  0.6140586 ]\n",
            " [0.52892684 0.47107316]\n",
            " [0.44218273 0.55781727]\n",
            " [0.29755478 0.70244522]\n",
            " [0.43646583 0.56353417]\n",
            " [0.12206351 0.87793649]\n",
            " [0.51154988 0.48845012]\n",
            " [0.40256815 0.59743185]\n",
            " [0.53470569 0.46529431]\n",
            " [0.78963706 0.21036294]\n",
            " [0.19896252 0.80103748]\n",
            " [0.72139353 0.27860647]\n",
            " [0.45941965 0.54058035]\n",
            " [0.32745661 0.67254339]\n",
            " [0.36418551 0.63581449]\n",
            " [0.71196878 0.28803122]\n",
            " [0.27852142 0.72147858]\n",
            " [0.56913046 0.43086954]\n",
            " [0.14339725 0.85660275]\n",
            " [0.41942193 0.58057807]\n",
            " [0.51154988 0.48845012]\n",
            " [0.53470569 0.46529431]\n",
            " [0.33258836 0.66741164]\n",
            " [0.62490046 0.37509954]\n",
            " [0.35882834 0.64117166]]\n",
            "Classes: [0 0 0 0 0 0 0 0 0 0 0 0 0 0 0 0 0 0 0 0 0 0 0 0 0 0 0 0 0 0 0 0 0 0 0 0 0\n",
            " 0 0 0 0 0 0 0 0 0 0 0 0 0 0 0 0 0 0 0 0 0 0 0 0 0 0 0 0 0 0 0 0 0 0 0 0 0\n",
            " 0 0 0 0 0 0 0 0 0 0 0 0 0 0 0 0 0 0 0 0 0 0 0 0 0 0 0 0 0 0 0 0 0 0 0 0 0\n",
            " 0 0 0 0 0 0 0 0 0 0 0 0 0 0 0 0 0 0 0 0 0 0 0 0 0 0 0 0 0 0 0 0 0 0 0 0 1\n",
            " 1 0 1 0 0 1 0 1 0 1 0 1 0 1 1 1 0 1 0 1 0 1 0 1 1 1 0 1 0 1 0 1 1 1 1 1 0\n",
            " 1 1 0 1 0 1 1 1 1 1 1 1 1 0 1 0 1 0 1 1 0 1 0 0 1 0 1 1 1 0 1 1 1 1 0 0 0\n",
            " 0 0 0 1 0 1 0 1 0 1 0 1 1 0 0 0 0 0 1 1 1 0 0 0 1 1 1 0 0 0 1 0 1 0 1 1 0\n",
            " 0 1 0 0 0 1 0 1 0 0 0 0 0 1 0 0 0 1 0 1 1 0 1 1 0 1 0 0 1 1 1 0 0 1 1 1 1\n",
            " 0 1 0 1 1 1 1 1 0 1 0 1 1 0 1 1 1 1 0 1 0 0 1 0 1 1 1 0 1 0 1 1 0 0 1 0 1]\n"
          ]
        }
      ],
      "id": "UwnWo7qe5ZX7"
    },
    {
      "cell_type": "code",
      "source": [
        "# Classify the first 6 instance in X\n",
        "logisticModel.predict(X)[0:6]"
      ],
      "metadata": {
        "colab": {
          "base_uri": "https://localhost:8080/"
        },
        "outputId": "9c084380-3a77-4713-d82c-aca36ba5c7d5",
        "id": "SAOwQ2tE5ZX8"
      },
      "execution_count": 48,
      "outputs": [
        {
          "output_type": "execute_result",
          "data": {
            "text/plain": [
              "array([0, 0, 0, 0, 0, 0])"
            ]
          },
          "metadata": {},
          "execution_count": 48
        }
      ],
      "id": "SAOwQ2tE5ZX8"
    },
    {
      "cell_type": "code",
      "source": [
        "# Calculate the proportion of instances correctly classified\n",
        "logisticModel.score(X, np.ravel(y))"
      ],
      "metadata": {
        "colab": {
          "base_uri": "https://localhost:8080/"
        },
        "outputId": "869afff2-366f-4e01-a850-25b510444fdb",
        "id": "q3_rfcra5ZX8"
      },
      "execution_count": 49,
      "outputs": [
        {
          "output_type": "execute_result",
          "data": {
            "text/plain": [
              "0.6936936936936937"
            ]
          },
          "metadata": {},
          "execution_count": 49
        }
      ],
      "id": "q3_rfcra5ZX8"
    },
    {
      "cell_type": "code",
      "source": [
        "# Plot logistic regression model\n",
        "plt.scatter(X, y, color='black')\n",
        "\n",
        "xrange = np.linspace(X.min(), X.max(), 10000)\n",
        "yhat = logisticModel.predict(X).reshape(-1, 1).astype(int)\n",
        "yprob = logisticModel.predict_proba(xrange.reshape(-1, 1))[:, 1]\n",
        "\n",
        "plt.plot(xrange, yprob, color='#4878d0', linewidth=2)\n",
        "plt.xlabel('Bill length (mm)', fontsize=14)\n",
        "plt.ylabel('Probability of Gentoo', fontsize=14)"
      ],
      "metadata": {
        "colab": {
          "base_uri": "https://localhost:8080/",
          "height": 506
        },
        "outputId": "dddbbfdc-7ca4-439c-a45c-9f95948f10dc",
        "id": "SDuLAKfR5ZX9"
      },
      "execution_count": 50,
      "outputs": [
        {
          "output_type": "stream",
          "name": "stderr",
          "text": [
            "/usr/local/lib/python3.10/dist-packages/sklearn/base.py:493: UserWarning: X does not have valid feature names, but LogisticRegression was fitted with feature names\n",
            "  warnings.warn(\n"
          ]
        },
        {
          "output_type": "execute_result",
          "data": {
            "text/plain": [
              "Text(0, 0.5, 'Probability of Gentoo')"
            ]
          },
          "metadata": {},
          "execution_count": 50
        },
        {
          "output_type": "display_data",
          "data": {
            "text/plain": [
              "<Figure size 640x480 with 1 Axes>"
            ],
            "image/png": "[encoded data removed]"
          },
          "metadata": {}
        }
      ],
      "id": "SDuLAKfR5ZX9"
    },
    {
      "cell_type": "code",
      "source": [
        "# Use two input features\n",
        "X = penguins[['bill_length_mm', 'bill_depth_mm']]\n",
        "y = penguins[['Gentoo']]"
      ],
      "metadata": {
        "id": "itoi7fstuQqk"
      },
      "id": "itoi7fstuQqk",
      "execution_count": 51,
      "outputs": []
    },
    {
      "cell_type": "code",
      "source": [
        "# Initialize a logistic regression model\n",
        "logisticModel = LogisticRegression(penalty=None)\n",
        "\n",
        "# Fit the model\n",
        "logisticModel.fit(X, np.ravel(y))\n",
        "\n",
        "# Print the fitted model\n",
        "print('w1, w2:', logisticModel.coef_)\n",
        "print('w0:', logisticModel.intercept_)"
      ],
      "metadata": {
        "colab": {
          "base_uri": "https://localhost:8080/"
        },
        "id": "KoNiZ3rfuT3A",
        "outputId": "5d1acf60-3f95-4c29-cb6c-a7d624203fcb"
      },
      "id": "KoNiZ3rfuT3A",
      "execution_count": 52,
      "outputs": [
        {
          "output_type": "stream",
          "name": "stdout",
          "text": [
            "w1, w2: [[ 0.55611063 -4.47532812]]\n",
            "w0: [48.12121712]\n"
          ]
        }
      ]
    },
    {
      "cell_type": "code",
      "source": [
        "# Proportion of instances correctly classified\n",
        "logisticModel.score(X, y)"
      ],
      "metadata": {
        "colab": {
          "base_uri": "https://localhost:8080/"
        },
        "id": "SyM6p_MKudc1",
        "outputId": "ba8d8582-bde5-4242-b1bc-99b397ac2dbb"
      },
      "id": "SyM6p_MKudc1",
      "execution_count": 53,
      "outputs": [
        {
          "output_type": "execute_result",
          "data": {
            "text/plain": [
              "0.9819819819819819"
            ]
          },
          "metadata": {},
          "execution_count": 53
        }
      ]
    },
    {
      "cell_type": "code",
      "source": [
        "# Decision boundary plot with two input features\n",
        "# Set background opacity to 20%\n",
        "contourf_kwargs = {'alpha': 0.2}\n",
        "\n",
        "# Plot decision boundary regions\n",
        "p = plot_decision_regions(X.to_numpy(), np.ravel(y),\n",
        "                          clf=logisticModel, contourf_kwargs=contourf_kwargs,\n",
        "                          colors='#7f7f7f,#1f77b4')\n",
        "\n",
        "# Add title and axis labels\n",
        "p.set_title('Decision boundary plot', fontsize=16)\n",
        "p.set_xlabel('Bill length (mm)', fontsize=14)\n",
        "p.set_ylabel('Bill depth (mm)', fontsize=14)\n",
        "\n",
        "# Add legend\n",
        "L = plt.legend()\n",
        "L.get_texts()[0].set_text('Chinstrap or Adelie')\n",
        "L.get_texts()[1].set_text('Gentoo')"
      ],
      "metadata": {
        "colab": {
          "base_uri": "https://localhost:8080/",
          "height": 514
        },
        "id": "VZLFRU2wugsc",
        "outputId": "5bc376bc-0972-458b-8611-7f80a9705a3f"
      },
      "id": "VZLFRU2wugsc",
      "execution_count": 54,
      "outputs": [
        {
          "output_type": "stream",
          "name": "stderr",
          "text": [
            "/usr/local/lib/python3.10/dist-packages/sklearn/base.py:493: UserWarning: X does not have valid feature names, but LogisticRegression was fitted with feature names\n",
            "  warnings.warn(\n"
          ]
        },
        {
          "output_type": "display_data",
          "data": {
            "text/plain": [
              "<Figure size 640x480 with 1 Axes>"
            ],
            "image/png": "[encoded data removed]"
          },
          "metadata": {}
        }
      ]
    },
    {
      "cell_type": "code",
      "source": [
        "# Initialize a logistic regression model\n",
        "logisticModel = LogisticRegression(penalty='l2')\n",
        "\n",
        "# Fit the model\n",
        "logisticModel.fit(X, np.ravel(y))\n",
        "\n",
        "# Print the fitted model\n",
        "print('w1, w2:', logisticModel.coef_)\n",
        "print('w0:', logisticModel.intercept_)"
      ],
      "metadata": {
        "colab": {
          "base_uri": "https://localhost:8080/"
        },
        "outputId": "8b44974e-30ac-4c6c-86cf-3ec9c797a76d",
        "id": "QWck06nM5kMv"
      },
      "execution_count": 55,
      "outputs": [
        {
          "output_type": "stream",
          "name": "stdout",
          "text": [
            "w1, w2: [[ 0.44691134 -2.9751132 ]]\n",
            "w0: [28.3295998]\n"
          ]
        }
      ],
      "id": "QWck06nM5kMv"
    },
    {
      "cell_type": "code",
      "source": [
        "# Proportion of instances correctly classified\n",
        "logisticModel.score(X, y)"
      ],
      "metadata": {
        "colab": {
          "base_uri": "https://localhost:8080/"
        },
        "outputId": "fcdbf958-ab58-406d-dd77-420646c2e9de",
        "id": "c2kfYgWX5kMv"
      },
      "execution_count": 56,
      "outputs": [
        {
          "output_type": "execute_result",
          "data": {
            "text/plain": [
              "0.9819819819819819"
            ]
          },
          "metadata": {},
          "execution_count": 56
        }
      ],
      "id": "c2kfYgWX5kMv"
    },
    {
      "cell_type": "code",
      "source": [
        "# Decision boundary plot with two input features\n",
        "# Set background opacity to 20%\n",
        "contourf_kwargs = {'alpha': 0.2}\n",
        "\n",
        "# Plot decision boundary regions\n",
        "p = plot_decision_regions(X.to_numpy(), np.ravel(y),\n",
        "                          clf=logisticModel, contourf_kwargs=contourf_kwargs,\n",
        "                          colors='#7f7f7f,#1f77b4')\n",
        "\n",
        "# Add title and axis labels\n",
        "p.set_title('Decision boundary plot', fontsize=16)\n",
        "p.set_xlabel('Bill length (mm)', fontsize=14)\n",
        "p.set_ylabel('Bill depth (mm)', fontsize=14)\n",
        "\n",
        "# Add legend\n",
        "L = plt.legend()\n",
        "L.get_texts()[0].set_text('Chinstrap or Adelie')\n",
        "L.get_texts()[1].set_text('Gentoo')"
      ],
      "metadata": {
        "colab": {
          "base_uri": "https://localhost:8080/",
          "height": 514
        },
        "outputId": "2f2e3217-b6e3-4b3a-fd21-d00d6286a434",
        "id": "LltQrRl-5kMw"
      },
      "execution_count": 57,
      "outputs": [
        {
          "output_type": "stream",
          "name": "stderr",
          "text": [
            "/usr/local/lib/python3.10/dist-packages/sklearn/base.py:493: UserWarning: X does not have valid feature names, but LogisticRegression was fitted with feature names\n",
            "  warnings.warn(\n"
          ]
        },
        {
          "output_type": "display_data",
          "data": {
            "text/plain": [
              "<Figure size 640x480 with 1 Axes>"
            ],
            "image/png": "[encoded data removed]"
          },
          "metadata": {}
        }
      ],
      "id": "LltQrRl-5kMw"
    }
  ],
  "metadata": {
    "colab": {
      "provenance": []
    },
    "kernelspec": {
      "display_name": "Python 3 - python3",
      "language": "python3",
      "name": "python3"
    },
    "language_info": {
      "codemirror_mode": {
        "name": "ipython",
        "version": 3
      },
      "file_extension": ".py",
      "mimetype": "text/x-python",
      "name": "python",
      "nbconvert_exporter": "python",
      "pygments_lexer": "ipython3",
      "version": "3.10.9"
    }
  },
  "nbformat": 4,
  "nbformat_minor": 5
}
